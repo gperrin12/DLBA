{
 "cells": [
  {
   "cell_type": "markdown",
   "metadata": {},
   "source": [
    "# Detroit Land Bank Authority (DLBA) Occupancy Model"
   ]
  },
  {
   "cell_type": "markdown",
   "metadata": {},
   "source": [
    "Geoff Perrin - 11.29.17\n",
    "\n",
    "- This notebook is an update to the occupancy model I built for the DLBA last summer that predicts the occupancy of every single-family residential home in the city of Detroit. This model has many uses, but the initial use case was for the DLBA to better manage their housing inventory, and do a quicker and more accurate job sorting the DLBA housing stock into the oppropriate pipeline (i.e. demolition, buy-back, public auction, etc.)"
   ]
  },
  {
   "cell_type": "code",
   "execution_count": 1,
   "metadata": {
    "collapsed": true
   },
   "outputs": [],
   "source": [
    "#import data libraries\n",
    "import pandas as pd\n",
    "import numpy as np\n",
    "import matplotlib.pyplot as plt\n",
    "import seaborn as sns\n",
    "\n",
    "np.random.seed(222)\n",
    "%matplotlib inline"
   ]
  },
  {
   "cell_type": "code",
   "execution_count": 2,
   "metadata": {
    "collapsed": false
   },
   "outputs": [
    {
     "name": "stderr",
     "output_type": "stream",
     "text": [
      "/Users/geoffperrin/anaconda2/lib/python2.7/site-packages/sklearn/cross_validation.py:41: DeprecationWarning: This module was deprecated in version 0.18 in favor of the model_selection module into which all the refactored classes and functions are moved. Also note that the interface of the new CV iterators are different from that of this module. This module will be removed in 0.20.\n",
      "  \"This module will be removed in 0.20.\", DeprecationWarning)\n"
     ]
    }
   ],
   "source": [
    "#import machine learning / classification libraries\n",
    "from sklearn.cross_validation import train_test_split\n",
    "from sklearn import tree\n",
    "from sklearn.metrics import classification_report\n",
    "from sklearn.ensemble import RandomForestClassifier as RFC\n",
    "import graphviz\n",
    "from sklearn.model_selection import GridSearchCV\n",
    "from sklearn.feature_selection import RFE\n",
    "from sklearn.linear_model import LogisticRegression\n",
    "from sklearn.preprocessing import MinMaxScaler\n",
    "from sklearn.metrics import roc_auc_score"
   ]
  },
  {
   "cell_type": "code",
   "execution_count": 3,
   "metadata": {
    "collapsed": false
   },
   "outputs": [
    {
     "name": "stderr",
     "output_type": "stream",
     "text": [
      "Using TensorFlow backend.\n"
     ]
    }
   ],
   "source": [
    "import tensorflow as tf\n",
    "from keras import models\n",
    "from keras import layers\n",
    "from keras import losses,optimizers,metrics,activations\n",
    "from keras.optimizers import SGD"
   ]
  },
  {
   "cell_type": "code",
   "execution_count": 4,
   "metadata": {
    "collapsed": false
   },
   "outputs": [],
   "source": [
    "from imblearn.over_sampling import RandomOverSampler\n",
    "from imblearn.over_sampling import SMOTE, ADASYN\n",
    "from collections import Counter"
   ]
  },
  {
   "cell_type": "code",
   "execution_count": 5,
   "metadata": {
    "collapsed": true
   },
   "outputs": [],
   "source": [
    "pd.options.display.max_columns = 120\n",
    "pd.options.display.max_rows = 120"
   ]
  },
  {
   "cell_type": "markdown",
   "metadata": {},
   "source": [
    "### Load Datasets"
   ]
  },
  {
   "cell_type": "code",
   "execution_count": 6,
   "metadata": {
    "collapsed": true
   },
   "outputs": [],
   "source": [
    "data = '../data/OccModel_TrainingInputData_20170117/'"
   ]
  },
  {
   "cell_type": "markdown",
   "metadata": {},
   "source": [
    "#### DTE data"
   ]
  },
  {
   "cell_type": "code",
   "execution_count": 7,
   "metadata": {
    "collapsed": false
   },
   "outputs": [
    {
     "name": "stderr",
     "output_type": "stream",
     "text": [
      "/Users/geoffperrin/anaconda2/lib/python2.7/site-packages/IPython/core/interactiveshell.py:2723: DtypeWarning: Columns (15,17,21) have mixed types. Specify dtype option on import or set low_memory=False.\n",
      "  interactivity=interactivity, compiler=compiler, result=result)\n"
     ]
    }
   ],
   "source": [
    "dte_df = pd.read_csv(data + 'DTE_ActiveAgreementsGasElectric_20160824.txt')"
   ]
  },
  {
   "cell_type": "code",
   "execution_count": 8,
   "metadata": {
    "collapsed": false
   },
   "outputs": [],
   "source": [
    "dte_df = dte_df[['Ref_ID', 'DS_SER_PRODUCT_TYPE']]"
   ]
  },
  {
   "cell_type": "code",
   "execution_count": 9,
   "metadata": {
    "collapsed": true
   },
   "outputs": [],
   "source": [
    "### Deduplicate data\n",
    "dte_df = dte_df.drop_duplicates()"
   ]
  },
  {
   "cell_type": "code",
   "execution_count": 10,
   "metadata": {
    "collapsed": false
   },
   "outputs": [],
   "source": [
    "### long to wide reshape on DS_SER_PRODUCT_TYPE\n",
    "dte_df['gas_dummy'] = [1 if x=='GAS' else 0 for x in dte_df['DS_SER_PRODUCT_TYPE']]\n",
    "dte_df['electric_dummy'] = [1 if x=='ELC' else 0 for x in dte_df['DS_SER_PRODUCT_TYPE']]\n",
    "dte_df = dte_df.groupby(['Ref_ID'], as_index=False)['gas_dummy', 'electric_dummy'].sum()"
   ]
  },
  {
   "cell_type": "markdown",
   "metadata": {},
   "source": [
    "#### DWSD (Water Department) data"
   ]
  },
  {
   "cell_type": "code",
   "execution_count": 11,
   "metadata": {
    "collapsed": true
   },
   "outputs": [],
   "source": [
    "dwsd_df = pd.read_csv(data + 'DWSD_12MoUsage_20160815.csv')"
   ]
  },
  {
   "cell_type": "code",
   "execution_count": 12,
   "metadata": {
    "collapsed": false
   },
   "outputs": [],
   "source": [
    "dwsd_df = dwsd_df[['Ref_ID', 'Street_ID', 'Add_Geocode', 'ZIP', \n",
    "                   u'TOTALACCOUNTBALANCE', u'DECEMBER', u'NOVEMBER',\n",
    "                   u'OCTOBER', u'SEPTEMBER', u'AUGUST', u'JULY', \n",
    "                   u'JUNE', u'MAY', u'APRIL',u'MARCH', u'FEBRUARY', \n",
    "                   u'JANUARY']]"
   ]
  },
  {
   "cell_type": "code",
   "execution_count": 13,
   "metadata": {
    "collapsed": false
   },
   "outputs": [],
   "source": [
    "dwsd_df['year_total'] = dwsd_df.DECEMBER + dwsd_df.NOVEMBER + dwsd_df.OCTOBER + dwsd_df.SEPTEMBER +\\\n",
    "                        dwsd_df.AUGUST + dwsd_df.JULY +dwsd_df.JUNE + dwsd_df.MAY + dwsd_df.APRIL +\\\n",
    "                        dwsd_df.MARCH + dwsd_df.FEBRUARY + dwsd_df.JANUARY"
   ]
  },
  {
   "cell_type": "code",
   "execution_count": 14,
   "metadata": {
    "collapsed": true
   },
   "outputs": [],
   "source": [
    "### sum water amounts of duplicate properties \n",
    "dwsd_df = dwsd_df.groupby(['Ref_ID'], as_index=False)[ u'TOTALACCOUNTBALANCE',\n",
    "       u'DECEMBER', u'NOVEMBER', u'OCTOBER', u'SEPTEMBER', u'AUGUST', u'JULY',\n",
    "       u'JUNE', u'MAY', u'APRIL', u'MARCH', u'FEBRUARY', u'JANUARY',\n",
    "       u'year_total'].sum()"
   ]
  },
  {
   "cell_type": "markdown",
   "metadata": {},
   "source": [
    "#### USPS / DFD (Fire Department) data"
   ]
  },
  {
   "cell_type": "code",
   "execution_count": 15,
   "metadata": {
    "collapsed": true
   },
   "outputs": [],
   "source": [
    "usps_df = pd.read_csv(data + 'Fire_USPS_Data_8_18_16.csv')"
   ]
  },
  {
   "cell_type": "code",
   "execution_count": 16,
   "metadata": {
    "collapsed": false
   },
   "outputs": [],
   "source": [
    "usps_df.columns = [u'Account Name', u'Ref_ID', u'Property Class', u'USPS: Last Update',\n",
    "       u'USPS: Vacancy Indicated', u'DFD Fire: Occurrence Date',\n",
    "       u'DFD Fire: Structure Status']"
   ]
  },
  {
   "cell_type": "code",
   "execution_count": 17,
   "metadata": {
    "collapsed": false
   },
   "outputs": [],
   "source": [
    "### subset to residential data\n",
    "usps_df = usps_df[usps_df['Property Class'] == 'Residential-Structure']"
   ]
  },
  {
   "cell_type": "code",
   "execution_count": 18,
   "metadata": {
    "collapsed": false
   },
   "outputs": [],
   "source": [
    "### create DFD fire dummy\n",
    "usps_df['fire_occured_dummy'] = [0 if pd.isnull(x) else 1 for x in usps_df['DFD Fire: Occurrence Date']]"
   ]
  },
  {
   "cell_type": "code",
   "execution_count": 19,
   "metadata": {
    "collapsed": true
   },
   "outputs": [],
   "source": [
    "### create USPS occupied dummy\n",
    "usps_df['usps_occupied_dummy'] = [1 if x == \"No\" else 0 for x in usps_df['USPS: Vacancy Indicated']]"
   ]
  },
  {
   "cell_type": "code",
   "execution_count": 20,
   "metadata": {
    "collapsed": true
   },
   "outputs": [],
   "source": [
    "### Just keep variables we need\n",
    "usps_df = usps_df[[u'Ref_ID', u'fire_occured_dummy',\n",
    "                   u'usps_occupied_dummy']]"
   ]
  },
  {
   "cell_type": "markdown",
   "metadata": {},
   "source": [
    "#### QVF (voter registration) data"
   ]
  },
  {
   "cell_type": "code",
   "execution_count": 21,
   "metadata": {
    "collapsed": false
   },
   "outputs": [
    {
     "name": "stderr",
     "output_type": "stream",
     "text": [
      "/Users/geoffperrin/anaconda2/lib/python2.7/site-packages/IPython/core/interactiveshell.py:2723: DtypeWarning: Columns (0,2,4,5,6,7) have mixed types. Specify dtype option on import or set low_memory=False.\n",
      "  interactivity=interactivity, compiler=compiler, result=result)\n"
     ]
    }
   ],
   "source": [
    "vote_df = pd.read_csv(data + 'QVF_Detroit20160816.csv')"
   ]
  },
  {
   "cell_type": "code",
   "execution_count": 22,
   "metadata": {
    "collapsed": false
   },
   "outputs": [],
   "source": [
    "vote_df = vote_df[['Ref_ID']]\n",
    "vote_df['vote_dummy'] = 1"
   ]
  },
  {
   "cell_type": "code",
   "execution_count": 23,
   "metadata": {
    "collapsed": true
   },
   "outputs": [],
   "source": [
    "vote_df = vote_df.drop_duplicates()"
   ]
  },
  {
   "cell_type": "markdown",
   "metadata": {},
   "source": [
    "#### Blext data (Motor City Mapping data)\n",
    "- https://motorcitymapping.org/#t=overview&s=detroit&f=all"
   ]
  },
  {
   "cell_type": "code",
   "execution_count": 24,
   "metadata": {
    "collapsed": true
   },
   "outputs": [],
   "source": [
    "mcm_df = pd.read_csv(data + 'Recent_Blexts_8_18_16_v2.csv')"
   ]
  },
  {
   "cell_type": "code",
   "execution_count": 25,
   "metadata": {
    "collapsed": false
   },
   "outputs": [],
   "source": [
    "mcm_df = mcm_df[[u'Account Name', u'Parcel ID', u'MCM Structure',\n",
    "       u'Property Class', u'MCM Occupancy', u'MCM Blext Created At']]"
   ]
  },
  {
   "cell_type": "code",
   "execution_count": 26,
   "metadata": {
    "collapsed": false
   },
   "outputs": [],
   "source": [
    "mcm_df.columns = [u'Account Name', u'Ref_ID', u'MCM Structure',\n",
    "       u'Property Class', u'MCM Occupancy', u'MCM Blext Created At']"
   ]
  },
  {
   "cell_type": "code",
   "execution_count": 27,
   "metadata": {
    "collapsed": true
   },
   "outputs": [],
   "source": [
    "### subset to residential data\n",
    "mcm_df = mcm_df[mcm_df['Property Class'] == 'Residential-Structure']"
   ]
  },
  {
   "cell_type": "code",
   "execution_count": 28,
   "metadata": {
    "collapsed": true
   },
   "outputs": [],
   "source": [
    "### subset to non-lot properties\n",
    "mcm_df = mcm_df[mcm_df['MCM Structure'] == 'Yes']"
   ]
  },
  {
   "cell_type": "code",
   "execution_count": 29,
   "metadata": {
    "collapsed": false
   },
   "outputs": [
    {
     "data": {
      "text/plain": [
       "64783"
      ]
     },
     "execution_count": 29,
     "metadata": {},
     "output_type": "execute_result"
    }
   ],
   "source": [
    "len(mcm_df)"
   ]
  },
  {
   "cell_type": "markdown",
   "metadata": {},
   "source": [
    "#### Note from Alice Hargreaves:"
   ]
  },
  {
   "cell_type": "markdown",
   "metadata": {},
   "source": [
    "NOTE: code \"maybe\" or \"partial\" occupied houses as occupied... Ive googled a lot of the \"maybes\" and theyre nearly all structually sound --- i.e., someone could occupy it, but someone might not be sleeping there every night - GP line of thinking about 3k rows are \"maybe\" or \"partial\" \n",
    "\n",
    "(R-code below):"
   ]
  },
  {
   "cell_type": "raw",
   "metadata": {},
   "source": [
    "blext_unknown<-subset(blext, (!(blext$MCM.Occupancy==\"Occupied\") & !(blext$MCM.Occupancy==\"Unoccupied\")))"
   ]
  },
  {
   "cell_type": "code",
   "execution_count": 30,
   "metadata": {
    "collapsed": true
   },
   "outputs": [],
   "source": [
    "def occupancy_binary(x):\n",
    "    if (x == \"Occupied\") | (x == \"Unoccupied\"):\n",
    "        return x\n",
    "    else:\n",
    "        return \"Occupied\""
   ]
  },
  {
   "cell_type": "code",
   "execution_count": 31,
   "metadata": {
    "collapsed": false
   },
   "outputs": [],
   "source": [
    "mcm_df['MCM Occupancy'] = mcm_df['MCM Occupancy'].apply(occupancy_binary)"
   ]
  },
  {
   "cell_type": "code",
   "execution_count": 32,
   "metadata": {
    "collapsed": true
   },
   "outputs": [],
   "source": [
    "### create DFD fire dummy\n",
    "mcm_df['mcm_occupancy_dummy'] = [1 if x == 'Occupied' else 0 for x in mcm_df['MCM Occupancy']]"
   ]
  },
  {
   "cell_type": "markdown",
   "metadata": {},
   "source": [
    "### Merge Datasets together"
   ]
  },
  {
   "cell_type": "code",
   "execution_count": 33,
   "metadata": {
    "collapsed": true
   },
   "outputs": [],
   "source": [
    "# merge mcm data with usps / dfd data\n",
    "merged_train = mcm_df.merge(usps_df, how='left', on='Ref_ID')"
   ]
  },
  {
   "cell_type": "code",
   "execution_count": 34,
   "metadata": {
    "collapsed": false
   },
   "outputs": [],
   "source": [
    "#merge on voter (qvf) data\n",
    "merged_train2 = merged_train.merge(vote_df, how='left', on='Ref_ID')"
   ]
  },
  {
   "cell_type": "code",
   "execution_count": 35,
   "metadata": {
    "collapsed": true
   },
   "outputs": [],
   "source": [
    "#fill in NaNs for vote_dummy\n",
    "merged_train2['vote_dummy'] = [0 if pd.isnull(x) else 1 for x in merged_train2['vote_dummy']]"
   ]
  },
  {
   "cell_type": "code",
   "execution_count": 36,
   "metadata": {
    "collapsed": false,
    "scrolled": false
   },
   "outputs": [],
   "source": [
    "#merge on dwsd data\n",
    "merged_train3 = merged_train2.merge(dwsd_df, how='left', on='Ref_ID')\n",
    "#fill in 0s for properties w/ no water\n",
    "merged_train3.fillna(value=0,inplace=True)"
   ]
  },
  {
   "cell_type": "code",
   "execution_count": 37,
   "metadata": {
    "collapsed": false
   },
   "outputs": [],
   "source": [
    "#merge on dte data\n",
    "merged_train_final = merged_train3.merge(dte_df, how='left', on='Ref_ID')\n",
    "merged_train_final.fillna(value=0,inplace=True)"
   ]
  },
  {
   "cell_type": "code",
   "execution_count": 38,
   "metadata": {
    "collapsed": false
   },
   "outputs": [
    {
     "data": {
      "text/html": [
       "<div>\n",
       "<table border=\"1\" class=\"dataframe\">\n",
       "  <thead>\n",
       "    <tr style=\"text-align: right;\">\n",
       "      <th></th>\n",
       "      <th>Account Name</th>\n",
       "      <th>Ref_ID</th>\n",
       "      <th>MCM Structure</th>\n",
       "      <th>Property Class</th>\n",
       "      <th>MCM Occupancy</th>\n",
       "      <th>MCM Blext Created At</th>\n",
       "      <th>mcm_occupancy_dummy</th>\n",
       "      <th>fire_occured_dummy</th>\n",
       "      <th>usps_occupied_dummy</th>\n",
       "      <th>vote_dummy</th>\n",
       "      <th>TOTALACCOUNTBALANCE</th>\n",
       "      <th>DECEMBER</th>\n",
       "      <th>NOVEMBER</th>\n",
       "      <th>OCTOBER</th>\n",
       "      <th>SEPTEMBER</th>\n",
       "      <th>AUGUST</th>\n",
       "      <th>JULY</th>\n",
       "      <th>JUNE</th>\n",
       "      <th>MAY</th>\n",
       "      <th>APRIL</th>\n",
       "      <th>MARCH</th>\n",
       "      <th>FEBRUARY</th>\n",
       "      <th>JANUARY</th>\n",
       "      <th>year_total</th>\n",
       "      <th>gas_dummy</th>\n",
       "      <th>electric_dummy</th>\n",
       "    </tr>\n",
       "  </thead>\n",
       "  <tbody>\n",
       "    <tr>\n",
       "      <th>0</th>\n",
       "      <td>13776 St Louis</td>\n",
       "      <td>13011231.</td>\n",
       "      <td>Yes</td>\n",
       "      <td>Residential-Structure</td>\n",
       "      <td>Occupied</td>\n",
       "      <td>8/16/2016 14:52</td>\n",
       "      <td>1</td>\n",
       "      <td>0</td>\n",
       "      <td>1</td>\n",
       "      <td>0</td>\n",
       "      <td>129.35</td>\n",
       "      <td>200.0</td>\n",
       "      <td>8000.0</td>\n",
       "      <td>8100.0</td>\n",
       "      <td>200.0</td>\n",
       "      <td>200.0</td>\n",
       "      <td>200.0</td>\n",
       "      <td>200.0</td>\n",
       "      <td>100.0</td>\n",
       "      <td>200.0</td>\n",
       "      <td>100.0</td>\n",
       "      <td>200.0</td>\n",
       "      <td>100.0</td>\n",
       "      <td>17800.0</td>\n",
       "      <td>1.0</td>\n",
       "      <td>1.0</td>\n",
       "    </tr>\n",
       "    <tr>\n",
       "      <th>1</th>\n",
       "      <td>13782 St Louis</td>\n",
       "      <td>13011232.</td>\n",
       "      <td>Yes</td>\n",
       "      <td>Residential-Structure</td>\n",
       "      <td>Occupied</td>\n",
       "      <td>8/16/2016 14:52</td>\n",
       "      <td>1</td>\n",
       "      <td>0</td>\n",
       "      <td>1</td>\n",
       "      <td>0</td>\n",
       "      <td>0.00</td>\n",
       "      <td>0.0</td>\n",
       "      <td>0.0</td>\n",
       "      <td>0.0</td>\n",
       "      <td>0.0</td>\n",
       "      <td>0.0</td>\n",
       "      <td>0.0</td>\n",
       "      <td>0.0</td>\n",
       "      <td>0.0</td>\n",
       "      <td>0.0</td>\n",
       "      <td>0.0</td>\n",
       "      <td>0.0</td>\n",
       "      <td>0.0</td>\n",
       "      <td>0.0</td>\n",
       "      <td>0.0</td>\n",
       "      <td>0.0</td>\n",
       "    </tr>\n",
       "    <tr>\n",
       "      <th>2</th>\n",
       "      <td>13790 St Louis</td>\n",
       "      <td>13011233.</td>\n",
       "      <td>Yes</td>\n",
       "      <td>Residential-Structure</td>\n",
       "      <td>Occupied</td>\n",
       "      <td>8/16/2016 14:51</td>\n",
       "      <td>1</td>\n",
       "      <td>0</td>\n",
       "      <td>1</td>\n",
       "      <td>0</td>\n",
       "      <td>27.97</td>\n",
       "      <td>900.0</td>\n",
       "      <td>900.0</td>\n",
       "      <td>800.0</td>\n",
       "      <td>800.0</td>\n",
       "      <td>1100.0</td>\n",
       "      <td>900.0</td>\n",
       "      <td>900.0</td>\n",
       "      <td>800.0</td>\n",
       "      <td>800.0</td>\n",
       "      <td>800.0</td>\n",
       "      <td>800.0</td>\n",
       "      <td>1100.0</td>\n",
       "      <td>10600.0</td>\n",
       "      <td>1.0</td>\n",
       "      <td>1.0</td>\n",
       "    </tr>\n",
       "    <tr>\n",
       "      <th>3</th>\n",
       "      <td>13777 St Louis</td>\n",
       "      <td>13011536.</td>\n",
       "      <td>Yes</td>\n",
       "      <td>Residential-Structure</td>\n",
       "      <td>Unoccupied</td>\n",
       "      <td>8/16/2016 14:50</td>\n",
       "      <td>0</td>\n",
       "      <td>0</td>\n",
       "      <td>0</td>\n",
       "      <td>0</td>\n",
       "      <td>0.00</td>\n",
       "      <td>0.0</td>\n",
       "      <td>0.0</td>\n",
       "      <td>0.0</td>\n",
       "      <td>0.0</td>\n",
       "      <td>0.0</td>\n",
       "      <td>0.0</td>\n",
       "      <td>0.0</td>\n",
       "      <td>0.0</td>\n",
       "      <td>0.0</td>\n",
       "      <td>0.0</td>\n",
       "      <td>0.0</td>\n",
       "      <td>0.0</td>\n",
       "      <td>0.0</td>\n",
       "      <td>1.0</td>\n",
       "      <td>1.0</td>\n",
       "    </tr>\n",
       "    <tr>\n",
       "      <th>4</th>\n",
       "      <td>13761 St Louis</td>\n",
       "      <td>13011538.</td>\n",
       "      <td>Yes</td>\n",
       "      <td>Residential-Structure</td>\n",
       "      <td>Occupied</td>\n",
       "      <td>8/16/2016 14:49</td>\n",
       "      <td>1</td>\n",
       "      <td>0</td>\n",
       "      <td>1</td>\n",
       "      <td>0</td>\n",
       "      <td>13.87</td>\n",
       "      <td>400.0</td>\n",
       "      <td>300.0</td>\n",
       "      <td>300.0</td>\n",
       "      <td>300.0</td>\n",
       "      <td>300.0</td>\n",
       "      <td>300.0</td>\n",
       "      <td>300.0</td>\n",
       "      <td>200.0</td>\n",
       "      <td>300.0</td>\n",
       "      <td>200.0</td>\n",
       "      <td>300.0</td>\n",
       "      <td>300.0</td>\n",
       "      <td>3500.0</td>\n",
       "      <td>1.0</td>\n",
       "      <td>1.0</td>\n",
       "    </tr>\n",
       "  </tbody>\n",
       "</table>\n",
       "</div>"
      ],
      "text/plain": [
       "     Account Name     Ref_ID MCM Structure         Property Class  \\\n",
       "0  13776 St Louis  13011231.           Yes  Residential-Structure   \n",
       "1  13782 St Louis  13011232.           Yes  Residential-Structure   \n",
       "2  13790 St Louis  13011233.           Yes  Residential-Structure   \n",
       "3  13777 St Louis  13011536.           Yes  Residential-Structure   \n",
       "4  13761 St Louis  13011538.           Yes  Residential-Structure   \n",
       "\n",
       "  MCM Occupancy MCM Blext Created At  mcm_occupancy_dummy  fire_occured_dummy  \\\n",
       "0      Occupied      8/16/2016 14:52                    1                   0   \n",
       "1      Occupied      8/16/2016 14:52                    1                   0   \n",
       "2      Occupied      8/16/2016 14:51                    1                   0   \n",
       "3    Unoccupied      8/16/2016 14:50                    0                   0   \n",
       "4      Occupied      8/16/2016 14:49                    1                   0   \n",
       "\n",
       "   usps_occupied_dummy  vote_dummy  TOTALACCOUNTBALANCE  DECEMBER  NOVEMBER  \\\n",
       "0                    1           0               129.35     200.0    8000.0   \n",
       "1                    1           0                 0.00       0.0       0.0   \n",
       "2                    1           0                27.97     900.0     900.0   \n",
       "3                    0           0                 0.00       0.0       0.0   \n",
       "4                    1           0                13.87     400.0     300.0   \n",
       "\n",
       "   OCTOBER  SEPTEMBER  AUGUST   JULY   JUNE    MAY  APRIL  MARCH  FEBRUARY  \\\n",
       "0   8100.0      200.0   200.0  200.0  200.0  100.0  200.0  100.0     200.0   \n",
       "1      0.0        0.0     0.0    0.0    0.0    0.0    0.0    0.0       0.0   \n",
       "2    800.0      800.0  1100.0  900.0  900.0  800.0  800.0  800.0     800.0   \n",
       "3      0.0        0.0     0.0    0.0    0.0    0.0    0.0    0.0       0.0   \n",
       "4    300.0      300.0   300.0  300.0  300.0  200.0  300.0  200.0     300.0   \n",
       "\n",
       "   JANUARY  year_total  gas_dummy  electric_dummy  \n",
       "0    100.0     17800.0        1.0             1.0  \n",
       "1      0.0         0.0        0.0             0.0  \n",
       "2   1100.0     10600.0        1.0             1.0  \n",
       "3      0.0         0.0        1.0             1.0  \n",
       "4    300.0      3500.0        1.0             1.0  "
      ]
     },
     "execution_count": 38,
     "metadata": {},
     "output_type": "execute_result"
    }
   ],
   "source": [
    "merged_train_final.head()"
   ]
  },
  {
   "cell_type": "code",
   "execution_count": 39,
   "metadata": {
    "collapsed": false
   },
   "outputs": [
    {
     "data": {
      "text/plain": [
       "Index([        u'Account Name',               u'Ref_ID',\n",
       "              u'MCM Structure',       u'Property Class',\n",
       "              u'MCM Occupancy', u'MCM Blext Created At',\n",
       "        u'mcm_occupancy_dummy',   u'fire_occured_dummy',\n",
       "        u'usps_occupied_dummy',           u'vote_dummy',\n",
       "        u'TOTALACCOUNTBALANCE',             u'DECEMBER',\n",
       "                   u'NOVEMBER',              u'OCTOBER',\n",
       "                  u'SEPTEMBER',               u'AUGUST',\n",
       "                       u'JULY',                 u'JUNE',\n",
       "                        u'MAY',                u'APRIL',\n",
       "                      u'MARCH',             u'FEBRUARY',\n",
       "                    u'JANUARY',           u'year_total',\n",
       "                  u'gas_dummy',       u'electric_dummy'],\n",
       "      dtype='object')"
      ]
     },
     "execution_count": 39,
     "metadata": {},
     "output_type": "execute_result"
    }
   ],
   "source": [
    "merged_train_final.columns"
   ]
  },
  {
   "cell_type": "code",
   "execution_count": 40,
   "metadata": {
    "collapsed": false
   },
   "outputs": [
    {
     "data": {
      "text/plain": [
       "64783"
      ]
     },
     "execution_count": 40,
     "metadata": {},
     "output_type": "execute_result"
    }
   ],
   "source": [
    "len(merged_train_final)"
   ]
  },
  {
   "cell_type": "markdown",
   "metadata": {
    "collapsed": true
   },
   "source": [
    "### Visualize Data"
   ]
  },
  {
   "cell_type": "code",
   "execution_count": 41,
   "metadata": {
    "collapsed": true
   },
   "outputs": [],
   "source": [
    "data_corr = merged_train_final[['mcm_occupancy_dummy', u'fire_occured_dummy', \n",
    "                                u'usps_occupied_dummy',\n",
    "                                u'vote_dummy', u'TOTALACCOUNTBALANCE', u'DECEMBER',\n",
    "                                u'NOVEMBER', u'OCTOBER', u'SEPTEMBER', u'AUGUST',\n",
    "                                u'JULY', u'JUNE', u'MAY', u'APRIL', u'MARCH', u'FEBRUARY',\n",
    "                                u'JANUARY', u'year_total', u'gas_dummy', u'electric_dummy']]"
   ]
  },
  {
   "cell_type": "code",
   "execution_count": 42,
   "metadata": {
    "collapsed": false
   },
   "outputs": [
    {
     "data": {
      "text/plain": [
       "<matplotlib.axes._subplots.AxesSubplot at 0x1134d9d50>"
      ]
     },
     "execution_count": 42,
     "metadata": {},
     "output_type": "execute_result"
    },
    {
     "data": {
      "image/png": "[encoded data removed]",
      "text/plain": [
       "<matplotlib.figure.Figure at 0x133e90b50>"
      ]
     },
     "metadata": {},
     "output_type": "display_data"
    }
   ],
   "source": [
    "sns.heatmap(data_corr.corr(), annot=False)"
   ]
  },
  {
   "cell_type": "code",
   "execution_count": 43,
   "metadata": {
    "collapsed": true
   },
   "outputs": [],
   "source": [
    "data_corr2 = merged_train_final[['mcm_occupancy_dummy', \n",
    "                                 u'fire_occured_dummy', u'usps_occupied_dummy',\n",
    "                                u'vote_dummy', u'year_total', u'electric_dummy']]"
   ]
  },
  {
   "cell_type": "code",
   "execution_count": 44,
   "metadata": {
    "collapsed": false
   },
   "outputs": [
    {
     "data": {
      "text/plain": [
       "<matplotlib.axes._subplots.AxesSubplot at 0x1300e8110>"
      ]
     },
     "execution_count": 44,
     "metadata": {},
     "output_type": "execute_result"
    },
    {
     "data": {
      "image/png": "[encoded data removed]",
      "text/plain": [
       "<matplotlib.figure.Figure at 0x124eee450>"
      ]
     },
     "metadata": {},
     "output_type": "display_data"
    }
   ],
   "source": [
    "sns.heatmap(data_corr2.corr(), annot=True)"
   ]
  },
  {
   "cell_type": "markdown",
   "metadata": {},
   "source": [
    "## Classification"
   ]
  },
  {
   "cell_type": "code",
   "execution_count": 45,
   "metadata": {
    "collapsed": false
   },
   "outputs": [
    {
     "data": {
      "text/plain": [
       "Index([        u'Account Name',               u'Ref_ID',\n",
       "              u'MCM Structure',       u'Property Class',\n",
       "              u'MCM Occupancy', u'MCM Blext Created At',\n",
       "        u'mcm_occupancy_dummy',   u'fire_occured_dummy',\n",
       "        u'usps_occupied_dummy',           u'vote_dummy',\n",
       "        u'TOTALACCOUNTBALANCE',             u'DECEMBER',\n",
       "                   u'NOVEMBER',              u'OCTOBER',\n",
       "                  u'SEPTEMBER',               u'AUGUST',\n",
       "                       u'JULY',                 u'JUNE',\n",
       "                        u'MAY',                u'APRIL',\n",
       "                      u'MARCH',             u'FEBRUARY',\n",
       "                    u'JANUARY',           u'year_total',\n",
       "                  u'gas_dummy',       u'electric_dummy'],\n",
       "      dtype='object')"
      ]
     },
     "execution_count": 45,
     "metadata": {},
     "output_type": "execute_result"
    }
   ],
   "source": [
    "merged_train_final.columns"
   ]
  },
  {
   "cell_type": "code",
   "execution_count": 46,
   "metadata": {
    "collapsed": true
   },
   "outputs": [],
   "source": [
    "X = merged_train_final[[u'fire_occured_dummy', u'usps_occupied_dummy',\n",
    "                                u'vote_dummy', u'year_total', u'electric_dummy']]\n",
    "y = merged_train_final.mcm_occupancy_dummy"
   ]
  },
  {
   "cell_type": "code",
   "execution_count": 47,
   "metadata": {
    "collapsed": true
   },
   "outputs": [],
   "source": [
    "X_train, X_test, y_train, y_test = train_test_split(X, y, test_size=0.3, random_state=123)"
   ]
  },
  {
   "cell_type": "markdown",
   "metadata": {},
   "source": [
    "### Class imbalance correction"
   ]
  },
  {
   "cell_type": "code",
   "execution_count": 48,
   "metadata": {
    "collapsed": false
   },
   "outputs": [
    {
     "data": {
      "text/html": [
       "<div>\n",
       "<table border=\"1\" class=\"dataframe\">\n",
       "  <thead>\n",
       "    <tr style=\"text-align: right;\">\n",
       "      <th></th>\n",
       "      <th>mcm_occupancy_dummy</th>\n",
       "      <th>fire_occured_dummy</th>\n",
       "    </tr>\n",
       "  </thead>\n",
       "  <tbody>\n",
       "    <tr>\n",
       "      <th>0</th>\n",
       "      <td>0</td>\n",
       "      <td>12798</td>\n",
       "    </tr>\n",
       "    <tr>\n",
       "      <th>1</th>\n",
       "      <td>1</td>\n",
       "      <td>51985</td>\n",
       "    </tr>\n",
       "  </tbody>\n",
       "</table>\n",
       "</div>"
      ],
      "text/plain": [
       "   mcm_occupancy_dummy  fire_occured_dummy\n",
       "0                    0               12798\n",
       "1                    1               51985"
      ]
     },
     "execution_count": 48,
     "metadata": {},
     "output_type": "execute_result"
    }
   ],
   "source": [
    "merged_train_final.groupby(['mcm_occupancy_dummy'], as_index=False)['fire_occured_dummy'].count()"
   ]
  },
  {
   "cell_type": "markdown",
   "metadata": {},
   "source": [
    "### Logistic Classification"
   ]
  },
  {
   "cell_type": "code",
   "execution_count": 49,
   "metadata": {
    "collapsed": false
   },
   "outputs": [
    {
     "data": {
      "text/plain": [
       "LogisticRegression(C=1.0, class_weight=None, dual=False, fit_intercept=True,\n",
       "          intercept_scaling=1, max_iter=100, multi_class='ovr', n_jobs=1,\n",
       "          penalty='l2', random_state=None, solver='liblinear', tol=0.0001,\n",
       "          verbose=0, warm_start=False)"
      ]
     },
     "execution_count": 49,
     "metadata": {},
     "output_type": "execute_result"
    }
   ],
   "source": [
    "logmodel = LogisticRegression()\n",
    "logmodel.fit(X_train,y_train)"
   ]
  },
  {
   "cell_type": "code",
   "execution_count": 50,
   "metadata": {
    "collapsed": true
   },
   "outputs": [],
   "source": [
    "predictions = logmodel.predict(X_test)"
   ]
  },
  {
   "cell_type": "code",
   "execution_count": 51,
   "metadata": {
    "collapsed": false,
    "scrolled": false
   },
   "outputs": [
    {
     "name": "stdout",
     "output_type": "stream",
     "text": [
      "             precision    recall  f1-score   support\n",
      "\n",
      "          0       0.85      0.71      0.77      3882\n",
      "          1       0.93      0.97      0.95     15553\n",
      "\n",
      "avg / total       0.91      0.92      0.91     19435\n",
      "\n"
     ]
    }
   ],
   "source": [
    "print(classification_report(y_test,predictions))"
   ]
  },
  {
   "cell_type": "code",
   "execution_count": 52,
   "metadata": {
    "collapsed": false
   },
   "outputs": [
    {
     "name": "stdout",
     "output_type": "stream",
     "text": [
      "0.839830925966\n"
     ]
    }
   ],
   "source": [
    "print(roc_auc_score(y_test, predictions))"
   ]
  },
  {
   "cell_type": "markdown",
   "metadata": {},
   "source": [
    "### use Over Sampling to correct class imbalance\n",
    "- code taken from http://contrib.scikit-learn.org/imbalanced-learn/stable/over_sampling.html"
   ]
  },
  {
   "cell_type": "code",
   "execution_count": 53,
   "metadata": {
    "collapsed": false
   },
   "outputs": [],
   "source": [
    "ros = RandomOverSampler(random_state=0, ratio='minority')\n",
    "X_resampled, y_resampled = ros.fit_sample(X_train, y_train)"
   ]
  },
  {
   "cell_type": "code",
   "execution_count": 54,
   "metadata": {
    "collapsed": false
   },
   "outputs": [
    {
     "data": {
      "text/plain": [
       "0.80338713945488227"
      ]
     },
     "execution_count": 54,
     "metadata": {},
     "output_type": "execute_result"
    }
   ],
   "source": [
    "sum(y_train)*1.0 / len(y_train)"
   ]
  },
  {
   "cell_type": "code",
   "execution_count": 55,
   "metadata": {
    "collapsed": false
   },
   "outputs": [
    {
     "data": {
      "text/plain": [
       "0.5"
      ]
     },
     "execution_count": 55,
     "metadata": {},
     "output_type": "execute_result"
    }
   ],
   "source": [
    "sum(y_resampled)*1.0 / len(y_resampled)"
   ]
  },
  {
   "cell_type": "code",
   "execution_count": 56,
   "metadata": {
    "collapsed": false
   },
   "outputs": [
    {
     "data": {
      "text/plain": [
       "LogisticRegression(C=1.0, class_weight=None, dual=False, fit_intercept=True,\n",
       "          intercept_scaling=1, max_iter=100, multi_class='ovr', n_jobs=1,\n",
       "          penalty='l2', random_state=None, solver='liblinear', tol=0.0001,\n",
       "          verbose=0, warm_start=False)"
      ]
     },
     "execution_count": 56,
     "metadata": {},
     "output_type": "execute_result"
    }
   ],
   "source": [
    "logmodel = LogisticRegression()\n",
    "logmodel.fit(X_resampled,y_resampled)"
   ]
  },
  {
   "cell_type": "code",
   "execution_count": 57,
   "metadata": {
    "collapsed": true
   },
   "outputs": [],
   "source": [
    "predictions = logmodel.predict(X_test)"
   ]
  },
  {
   "cell_type": "code",
   "execution_count": 58,
   "metadata": {
    "collapsed": false
   },
   "outputs": [
    {
     "name": "stdout",
     "output_type": "stream",
     "text": [
      "             precision    recall  f1-score   support\n",
      "\n",
      "          0       0.65      0.91      0.76      3882\n",
      "          1       0.97      0.88      0.92     15553\n",
      "\n",
      "avg / total       0.91      0.88      0.89     19435\n",
      "\n"
     ]
    }
   ],
   "source": [
    "print(classification_report(y_test,predictions))"
   ]
  },
  {
   "cell_type": "code",
   "execution_count": 59,
   "metadata": {
    "collapsed": false
   },
   "outputs": [
    {
     "name": "stdout",
     "output_type": "stream",
     "text": [
      "0.89161756084\n"
     ]
    }
   ],
   "source": [
    "print(roc_auc_score(y_test, predictions))"
   ]
  },
  {
   "cell_type": "markdown",
   "metadata": {},
   "source": [
    "### Use SMOTE to correct class imbalance\n",
    "- code taken from http://contrib.scikit-learn.org/imbalanced-learn/stable/over_sampling.html"
   ]
  },
  {
   "cell_type": "code",
   "execution_count": 60,
   "metadata": {
    "collapsed": true
   },
   "outputs": [],
   "source": [
    "X_resampled, y_resampled = SMOTE().fit_sample(X_train, y_train)"
   ]
  },
  {
   "cell_type": "code",
   "execution_count": 61,
   "metadata": {
    "collapsed": false
   },
   "outputs": [
    {
     "data": {
      "text/plain": [
       "LogisticRegression(C=1.0, class_weight=None, dual=False, fit_intercept=True,\n",
       "          intercept_scaling=1, max_iter=100, multi_class='ovr', n_jobs=1,\n",
       "          penalty='l2', random_state=None, solver='liblinear', tol=0.0001,\n",
       "          verbose=0, warm_start=False)"
      ]
     },
     "execution_count": 61,
     "metadata": {},
     "output_type": "execute_result"
    }
   ],
   "source": [
    "logmodel = LogisticRegression()\n",
    "logmodel.fit(X_resampled,y_resampled)"
   ]
  },
  {
   "cell_type": "code",
   "execution_count": 62,
   "metadata": {
    "collapsed": true
   },
   "outputs": [],
   "source": [
    "predictions = logmodel.predict(X_test)"
   ]
  },
  {
   "cell_type": "code",
   "execution_count": 63,
   "metadata": {
    "collapsed": false,
    "scrolled": true
   },
   "outputs": [
    {
     "name": "stdout",
     "output_type": "stream",
     "text": [
      "             precision    recall  f1-score   support\n",
      "\n",
      "          0       0.65      0.91      0.75      3882\n",
      "          1       0.97      0.88      0.92     15553\n",
      "\n",
      "avg / total       0.91      0.88      0.89     19435\n",
      "\n"
     ]
    }
   ],
   "source": [
    "print(classification_report(y_test,predictions))"
   ]
  },
  {
   "cell_type": "code",
   "execution_count": 64,
   "metadata": {
    "collapsed": false
   },
   "outputs": [
    {
     "name": "stdout",
     "output_type": "stream",
     "text": [
      "0.891071042484\n"
     ]
    }
   ],
   "source": [
    "print(roc_auc_score(y_test, predictions))"
   ]
  },
  {
   "cell_type": "markdown",
   "metadata": {},
   "source": [
    "### Decision Trees"
   ]
  },
  {
   "cell_type": "code",
   "execution_count": 65,
   "metadata": {
    "collapsed": true
   },
   "outputs": [],
   "source": [
    "clf = tree.DecisionTreeClassifier()"
   ]
  },
  {
   "cell_type": "code",
   "execution_count": 66,
   "metadata": {
    "collapsed": false
   },
   "outputs": [
    {
     "data": {
      "text/html": [
       "<div>\n",
       "<table border=\"1\" class=\"dataframe\">\n",
       "  <thead>\n",
       "    <tr style=\"text-align: right;\">\n",
       "      <th></th>\n",
       "      <th>variables</th>\n",
       "      <th>importance</th>\n",
       "    </tr>\n",
       "  </thead>\n",
       "  <tbody>\n",
       "    <tr>\n",
       "      <th>4</th>\n",
       "      <td>electric_dummy</td>\n",
       "      <td>0.789442</td>\n",
       "    </tr>\n",
       "    <tr>\n",
       "      <th>1</th>\n",
       "      <td>usps_occupied_dummy</td>\n",
       "      <td>0.136797</td>\n",
       "    </tr>\n",
       "    <tr>\n",
       "      <th>3</th>\n",
       "      <td>year_total</td>\n",
       "      <td>0.0609941</td>\n",
       "    </tr>\n",
       "    <tr>\n",
       "      <th>0</th>\n",
       "      <td>fire_occured_dummy</td>\n",
       "      <td>0.00670613</td>\n",
       "    </tr>\n",
       "    <tr>\n",
       "      <th>2</th>\n",
       "      <td>vote_dummy</td>\n",
       "      <td>0.00606029</td>\n",
       "    </tr>\n",
       "  </tbody>\n",
       "</table>\n",
       "</div>"
      ],
      "text/plain": [
       "             variables  importance\n",
       "4       electric_dummy    0.789442\n",
       "1  usps_occupied_dummy    0.136797\n",
       "3           year_total   0.0609941\n",
       "0   fire_occured_dummy  0.00670613\n",
       "2           vote_dummy  0.00606029"
      ]
     },
     "execution_count": 66,
     "metadata": {},
     "output_type": "execute_result"
    }
   ],
   "source": [
    "feature_importance = clf.fit(X_resampled, y_resampled).feature_importances_\n",
    "Feature_importance_df = pd.DataFrame([list(X_train.columns), list(feature_importance)]).T\n",
    "Feature_importance_df.columns = [\"variables\", \"importance\"]\n",
    "Feature_importance_df.sort_values(by=\"importance\", ascending=False)"
   ]
  },
  {
   "cell_type": "code",
   "execution_count": 67,
   "metadata": {
    "collapsed": true
   },
   "outputs": [],
   "source": [
    "#### Can also use built in sci-kit learn feature selection (Recursive Feature Elimination)"
   ]
  },
  {
   "cell_type": "code",
   "execution_count": 68,
   "metadata": {
    "collapsed": true
   },
   "outputs": [],
   "source": [
    "rfe = RFE(clf, n_features_to_select=5)"
   ]
  },
  {
   "cell_type": "code",
   "execution_count": 69,
   "metadata": {
    "collapsed": false
   },
   "outputs": [
    {
     "data": {
      "text/plain": [
       "RFE(estimator=DecisionTreeClassifier(class_weight=None, criterion='gini', max_depth=None,\n",
       "            max_features=None, max_leaf_nodes=None,\n",
       "            min_impurity_decrease=0.0, min_impurity_split=None,\n",
       "            min_samples_leaf=1, min_samples_split=2,\n",
       "            min_weight_fraction_leaf=0.0, presort=False, random_state=None,\n",
       "            splitter='best'),\n",
       "  n_features_to_select=5, step=1, verbose=0)"
      ]
     },
     "execution_count": 69,
     "metadata": {},
     "output_type": "execute_result"
    }
   ],
   "source": [
    "rfe.fit(X_resampled, y_resampled)"
   ]
  },
  {
   "cell_type": "code",
   "execution_count": 70,
   "metadata": {
    "collapsed": false
   },
   "outputs": [
    {
     "name": "stdout",
     "output_type": "stream",
     "text": [
      "[ True  True  True  True  True]\n",
      "[1 1 1 1 1]\n"
     ]
    }
   ],
   "source": [
    "# summarize the selection of the attributes\n",
    "print(rfe.support_)\n",
    "print(rfe.ranking_)"
   ]
  },
  {
   "cell_type": "code",
   "execution_count": 71,
   "metadata": {
    "collapsed": true
   },
   "outputs": [],
   "source": [
    "featured_columns = (np.array(X.columns) * rfe.support_)\n",
    "featured_columns = [var for var in featured_columns if var]"
   ]
  },
  {
   "cell_type": "code",
   "execution_count": 72,
   "metadata": {
    "collapsed": false
   },
   "outputs": [
    {
     "data": {
      "text/plain": [
       "['fire_occured_dummy',\n",
       " 'usps_occupied_dummy',\n",
       " 'vote_dummy',\n",
       " u'year_total',\n",
       " 'electric_dummy']"
      ]
     },
     "execution_count": 72,
     "metadata": {},
     "output_type": "execute_result"
    }
   ],
   "source": [
    "featured_columns"
   ]
  },
  {
   "cell_type": "code",
   "execution_count": 73,
   "metadata": {
    "collapsed": true
   },
   "outputs": [],
   "source": [
    "X_top_features = X[featured_columns]"
   ]
  },
  {
   "cell_type": "markdown",
   "metadata": {},
   "source": [
    "### Predictions"
   ]
  },
  {
   "cell_type": "code",
   "execution_count": 74,
   "metadata": {
    "collapsed": true
   },
   "outputs": [],
   "source": [
    "predictions = rfe.predict(X_test)"
   ]
  },
  {
   "cell_type": "code",
   "execution_count": 75,
   "metadata": {
    "collapsed": false
   },
   "outputs": [
    {
     "name": "stdout",
     "output_type": "stream",
     "text": [
      "             precision    recall  f1-score   support\n",
      "\n",
      "          0       0.70      0.88      0.78      3882\n",
      "          1       0.97      0.91      0.94     15553\n",
      "\n",
      "avg / total       0.92      0.90      0.91     19435\n",
      "\n"
     ]
    }
   ],
   "source": [
    "print(classification_report(y_test, predictions))"
   ]
  },
  {
   "cell_type": "code",
   "execution_count": 76,
   "metadata": {
    "collapsed": true
   },
   "outputs": [],
   "source": [
    "def accuracy(true, predictions):\n",
    "    tot_true = (true == predictions)\n",
    "    return 1.0 * sum(tot_true) / len(true)"
   ]
  },
  {
   "cell_type": "code",
   "execution_count": 77,
   "metadata": {
    "collapsed": true
   },
   "outputs": [],
   "source": [
    "#precision of unoccupied homes\n",
    "def pct_class_unocc_homes_accually_occ(true, predictions):\n",
    "    #number of true positives of unoccupied homes\n",
    "    TP = ((true == 0) & (true == predictions))\n",
    "    #number of predicted unoccupied homes\n",
    "    PP = (predictions == 0)\n",
    "    return 1-(sum(TP)*1.0 / sum(PP))\n",
    "    "
   ]
  },
  {
   "cell_type": "code",
   "execution_count": 78,
   "metadata": {
    "collapsed": false
   },
   "outputs": [
    {
     "data": {
      "text/plain": [
       "0.9016207872395163"
      ]
     },
     "execution_count": 78,
     "metadata": {},
     "output_type": "execute_result"
    }
   ],
   "source": [
    "accuracy(y_test, predictions)"
   ]
  },
  {
   "cell_type": "code",
   "execution_count": 79,
   "metadata": {
    "collapsed": false
   },
   "outputs": [
    {
     "data": {
      "text/plain": [
       "0.29889750918742342"
      ]
     },
     "execution_count": 79,
     "metadata": {},
     "output_type": "execute_result"
    }
   ],
   "source": [
    "pct_class_unocc_homes_accually_occ(y_test, predictions)"
   ]
  },
  {
   "cell_type": "code",
   "execution_count": 80,
   "metadata": {
    "collapsed": true
   },
   "outputs": [],
   "source": [
    "feature_names = [u'fire_occured_dummy', u'usps_occupied_dummy',\\\n",
    "                 u'vote_dummy', u'year_total', u'electric_dummy']"
   ]
  },
  {
   "cell_type": "code",
   "execution_count": 81,
   "metadata": {
    "collapsed": false
   },
   "outputs": [
    {
     "data": {
      "text/plain": [
       "'decision_tree_graph.pdf'"
      ]
     },
     "execution_count": 81,
     "metadata": {},
     "output_type": "execute_result"
    }
   ],
   "source": [
    "### Export decision tree graph\n",
    "DC_graph = tree.export_graphviz(clf, out_file=None, \n",
    "                         feature_names=feature_names,  \n",
    "                         filled=True, rounded=True,  \n",
    "                         special_characters=True)  \n",
    "graph = graphviz.Source(DC_graph) \n",
    "graph.render(\"decision_tree_graph\") "
   ]
  },
  {
   "cell_type": "markdown",
   "metadata": {},
   "source": [
    "## Random Forest"
   ]
  },
  {
   "cell_type": "code",
   "execution_count": 82,
   "metadata": {
    "collapsed": true
   },
   "outputs": [],
   "source": [
    "r_tree = RFC()"
   ]
  },
  {
   "cell_type": "code",
   "execution_count": 83,
   "metadata": {
    "collapsed": false
   },
   "outputs": [
    {
     "data": {
      "text/plain": [
       "GridSearchCV(cv=None, error_score='raise',\n",
       "       estimator=RandomForestClassifier(bootstrap=True, class_weight=None, criterion='gini',\n",
       "            max_depth=None, max_features='auto', max_leaf_nodes=None,\n",
       "            min_impurity_decrease=0.0, min_impurity_split=None,\n",
       "            min_samples_leaf=1, min_samples_split=2,\n",
       "            min_weight_fraction_leaf=0.0, n_estimators=10, n_jobs=1,\n",
       "            oob_score=False, random_state=None, verbose=0,\n",
       "            warm_start=False),\n",
       "       fit_params=None, iid=True, n_jobs=1,\n",
       "       param_grid={'n_estimators': array([  1, 101, 201, 301, 401, 501, 601]), 'max_depth': [9, 11, 13, 15, 17]},\n",
       "       pre_dispatch='2*n_jobs', refit=True, return_train_score='warn',\n",
       "       scoring=None, verbose=0)"
      ]
     },
     "execution_count": 83,
     "metadata": {},
     "output_type": "execute_result"
    }
   ],
   "source": [
    "param_grid = {'max_depth': [9, 11, 13, 15, 17], 'n_estimators': np.arange(1,602,100)}\n",
    "r_tree_tuned = GridSearchCV(r_tree, param_grid)\n",
    "r_tree_tuned.fit(X_resampled, y_resampled)"
   ]
  },
  {
   "cell_type": "code",
   "execution_count": 84,
   "metadata": {
    "collapsed": true
   },
   "outputs": [],
   "source": [
    "feature_importance = r_tree_tuned.best_estimator_.fit(X_resampled, y_resampled).feature_importances_"
   ]
  },
  {
   "cell_type": "code",
   "execution_count": 85,
   "metadata": {
    "collapsed": false
   },
   "outputs": [],
   "source": [
    "Feature_importance_df = pd.DataFrame([list(X_train.columns), list(feature_importance)]).T\n",
    "Feature_importance_df.columns = [\"variables\", \"importance\"]\n",
    "Feature_importance_df.sort_values(by=\"importance\", ascending=False, inplace=True)\n",
    "Feature_importance_df.reset_index(inplace=True)\n",
    "Feature_importance_df.drop(u'index', axis=1, inplace=True)"
   ]
  },
  {
   "cell_type": "code",
   "execution_count": 86,
   "metadata": {
    "collapsed": false
   },
   "outputs": [
    {
     "data": {
      "text/html": [
       "<div>\n",
       "<table border=\"1\" class=\"dataframe\">\n",
       "  <thead>\n",
       "    <tr style=\"text-align: right;\">\n",
       "      <th></th>\n",
       "      <th>variables</th>\n",
       "      <th>importance</th>\n",
       "    </tr>\n",
       "  </thead>\n",
       "  <tbody>\n",
       "    <tr>\n",
       "      <th>0</th>\n",
       "      <td>electric_dummy</td>\n",
       "      <td>0.435713</td>\n",
       "    </tr>\n",
       "    <tr>\n",
       "      <th>1</th>\n",
       "      <td>usps_occupied_dummy</td>\n",
       "      <td>0.360312</td>\n",
       "    </tr>\n",
       "    <tr>\n",
       "      <th>2</th>\n",
       "      <td>year_total</td>\n",
       "      <td>0.186028</td>\n",
       "    </tr>\n",
       "    <tr>\n",
       "      <th>3</th>\n",
       "      <td>fire_occured_dummy</td>\n",
       "      <td>0.0111986</td>\n",
       "    </tr>\n",
       "    <tr>\n",
       "      <th>4</th>\n",
       "      <td>vote_dummy</td>\n",
       "      <td>0.00674757</td>\n",
       "    </tr>\n",
       "  </tbody>\n",
       "</table>\n",
       "</div>"
      ],
      "text/plain": [
       "             variables  importance\n",
       "0       electric_dummy    0.435713\n",
       "1  usps_occupied_dummy    0.360312\n",
       "2           year_total    0.186028\n",
       "3   fire_occured_dummy   0.0111986\n",
       "4           vote_dummy  0.00674757"
      ]
     },
     "execution_count": 86,
     "metadata": {},
     "output_type": "execute_result"
    }
   ],
   "source": [
    "Feature_importance_df"
   ]
  },
  {
   "cell_type": "code",
   "execution_count": 87,
   "metadata": {
    "collapsed": false
   },
   "outputs": [
    {
     "data": {
      "text/plain": [
       "{'max_depth': 15, 'n_estimators': 301}"
      ]
     },
     "execution_count": 87,
     "metadata": {},
     "output_type": "execute_result"
    }
   ],
   "source": [
    "r_tree_tuned.best_params_"
   ]
  },
  {
   "cell_type": "code",
   "execution_count": 88,
   "metadata": {
    "collapsed": true
   },
   "outputs": [],
   "source": [
    "predictions = r_tree_tuned.predict(X_test)"
   ]
  },
  {
   "cell_type": "code",
   "execution_count": 89,
   "metadata": {
    "collapsed": false,
    "scrolled": true
   },
   "outputs": [
    {
     "name": "stdout",
     "output_type": "stream",
     "text": [
      "             precision    recall  f1-score   support\n",
      "\n",
      "          0       0.71      0.88      0.78      3882\n",
      "          1       0.97      0.91      0.94     15553\n",
      "\n",
      "avg / total       0.92      0.90      0.91     19435\n",
      "\n"
     ]
    }
   ],
   "source": [
    "print(classification_report(y_test, predictions))"
   ]
  },
  {
   "cell_type": "markdown",
   "metadata": {},
   "source": [
    "### Model Evaluation:\n",
    "\n",
    "- we want to minimize homes being misclassified as unoccupied when they are really occupied\n",
    "- this means we want to maximize the precision of 0 (unoccupied) as that minimizes the statement above\n",
    "- False Negative of 0 means a home is classified as being occupied but is really unoccupied"
   ]
  },
  {
   "cell_type": "markdown",
   "metadata": {},
   "source": [
    "<img src=\"Precisionrecall.png\",width=300,height=300>"
   ]
  },
  {
   "cell_type": "code",
   "execution_count": 90,
   "metadata": {
    "collapsed": false
   },
   "outputs": [
    {
     "data": {
      "text/plain": [
       "0.903010033444816"
      ]
     },
     "execution_count": 90,
     "metadata": {},
     "output_type": "execute_result"
    }
   ],
   "source": [
    "accuracy(y_test, predictions)"
   ]
  },
  {
   "cell_type": "code",
   "execution_count": 91,
   "metadata": {
    "collapsed": false
   },
   "outputs": [
    {
     "data": {
      "text/plain": [
       "0.29492708975148896"
      ]
     },
     "execution_count": 91,
     "metadata": {},
     "output_type": "execute_result"
    }
   ],
   "source": [
    "pct_class_unocc_homes_accually_occ(y_test, predictions)"
   ]
  },
  {
   "cell_type": "code",
   "execution_count": 92,
   "metadata": {
    "collapsed": false
   },
   "outputs": [
    {
     "name": "stdout",
     "output_type": "stream",
     "text": [
      "0.896004257997\n"
     ]
    }
   ],
   "source": [
    "print(roc_auc_score(y_test, predictions))"
   ]
  },
  {
   "cell_type": "markdown",
   "metadata": {},
   "source": [
    "## Dense Neural Network"
   ]
  },
  {
   "cell_type": "code",
   "execution_count": 93,
   "metadata": {
    "collapsed": true
   },
   "outputs": [],
   "source": [
    "dnn_keras_model = models.Sequential()\n",
    "dnn_keras_model.add(layers.Dense(units=10, input_dim=5, activation='relu'))\n",
    "dnn_keras_model.add(layers.Dense(units=10, input_dim=10, activation='relu'))\n",
    "dnn_keras_model.add(layers.Dense(units=2, activation='softmax'))"
   ]
  },
  {
   "cell_type": "code",
   "execution_count": 94,
   "metadata": {
    "collapsed": false
   },
   "outputs": [],
   "source": [
    "opt = SGD(lr=0.01)\n",
    "dnn_keras_model.compile(optimizer= opt,\n",
    "                       loss='sparse_categorical_crossentropy',\n",
    "                       metrics=['accuracy'])"
   ]
  },
  {
   "cell_type": "code",
   "execution_count": 95,
   "metadata": {
    "collapsed": true
   },
   "outputs": [],
   "source": [
    "scaler = MinMaxScaler()"
   ]
  },
  {
   "cell_type": "code",
   "execution_count": 96,
   "metadata": {
    "collapsed": true
   },
   "outputs": [],
   "source": [
    "scaled_x_train = scaler.fit_transform(X_resampled)"
   ]
  },
  {
   "cell_type": "code",
   "execution_count": 97,
   "metadata": {
    "collapsed": true
   },
   "outputs": [],
   "source": [
    "scaled_x_test = scaler.fit_transform(X_test)"
   ]
  },
  {
   "cell_type": "code",
   "execution_count": 98,
   "metadata": {
    "collapsed": false
   },
   "outputs": [
    {
     "name": "stdout",
     "output_type": "stream",
     "text": [
      "Epoch 1/10\n",
      "72864/72864 [==============================] - 3s - loss: 0.3615 - acc: 0.8688     \n",
      "Epoch 2/10\n",
      "72864/72864 [==============================] - 3s - loss: 0.3064 - acc: 0.8867     \n",
      "Epoch 3/10\n",
      "72864/72864 [==============================] - 3s - loss: 0.3057 - acc: 0.8865     \n",
      "Epoch 4/10\n",
      "72864/72864 [==============================] - 3s - loss: 0.3054 - acc: 0.8867     \n",
      "Epoch 5/10\n",
      "72864/72864 [==============================] - 3s - loss: 0.3050 - acc: 0.8870     \n",
      "Epoch 6/10\n",
      "72864/72864 [==============================] - 3s - loss: 0.3050 - acc: 0.8870     \n",
      "Epoch 7/10\n",
      "72864/72864 [==============================] - 3s - loss: 0.3048 - acc: 0.8871     \n",
      "Epoch 8/10\n",
      "72864/72864 [==============================] - 3s - loss: 0.3048 - acc: 0.8870     \n",
      "Epoch 9/10\n",
      "72864/72864 [==============================] - 3s - loss: 0.3048 - acc: 0.8871     \n",
      "Epoch 10/10\n",
      "72864/72864 [==============================] - 3s - loss: 0.3049 - acc: 0.8871     \n"
     ]
    },
    {
     "data": {
      "text/plain": [
       "<keras.callbacks.History at 0x118e4a050>"
      ]
     },
     "execution_count": 98,
     "metadata": {},
     "output_type": "execute_result"
    }
   ],
   "source": [
    "dnn_keras_model.fit(scaled_x_train,y_resampled,epochs=10)"
   ]
  },
  {
   "cell_type": "code",
   "execution_count": 99,
   "metadata": {
    "collapsed": false
   },
   "outputs": [
    {
     "name": "stdout",
     "output_type": "stream",
     "text": [
      "16576/19435 [========================>.....] - ETA: 0s"
     ]
    }
   ],
   "source": [
    "predictions = dnn_keras_model.predict_classes(scaled_x_test)"
   ]
  },
  {
   "cell_type": "code",
   "execution_count": 100,
   "metadata": {
    "collapsed": false
   },
   "outputs": [
    {
     "name": "stdout",
     "output_type": "stream",
     "text": [
      "             precision    recall  f1-score   support\n",
      "\n",
      "          0       0.63      0.91      0.75      3882\n",
      "          1       0.98      0.87      0.92     15553\n",
      "\n",
      "avg / total       0.91      0.88      0.89     19435\n",
      "\n"
     ]
    }
   ],
   "source": [
    "print(classification_report(y_test,predictions))"
   ]
  },
  {
   "cell_type": "code",
   "execution_count": 101,
   "metadata": {
    "collapsed": false
   },
   "outputs": [
    {
     "name": "stdout",
     "output_type": "stream",
     "text": [
      "0.890271479685\n"
     ]
    }
   ],
   "source": [
    "print(roc_auc_score(y_test, predictions))"
   ]
  },
  {
   "cell_type": "markdown",
   "metadata": {},
   "source": [
    "## Applying Predictions to full dataset"
   ]
  },
  {
   "cell_type": "code",
   "execution_count": 102,
   "metadata": {
    "collapsed": false
   },
   "outputs": [],
   "source": [
    "predictions_df = X.copy()"
   ]
  },
  {
   "cell_type": "code",
   "execution_count": 103,
   "metadata": {
    "collapsed": false
   },
   "outputs": [],
   "source": [
    "predictions_df['prediction_occupancy'] = r_tree_tuned.predict(X)\n",
    "predictions_df['prediction_occupancy_proba'] = r_tree_tuned.predict_proba(X)[:,1]"
   ]
  },
  {
   "cell_type": "code",
   "execution_count": 104,
   "metadata": {
    "collapsed": false
   },
   "outputs": [],
   "source": [
    "address_df = merged_train_final[['Account Name']]"
   ]
  },
  {
   "cell_type": "code",
   "execution_count": 105,
   "metadata": {
    "collapsed": false
   },
   "outputs": [],
   "source": [
    "predictions_df = predictions_df.merge(address_df, how='left', left_index=True, right_index=True)"
   ]
  },
  {
   "cell_type": "code",
   "execution_count": 106,
   "metadata": {
    "collapsed": false
   },
   "outputs": [
    {
     "name": "stderr",
     "output_type": "stream",
     "text": [
      "/Users/geoffperrin/anaconda2/lib/python2.7/site-packages/ipykernel/__main__.py:1: FutureWarning: sort(columns=....) is deprecated, use sort_values(by=.....)\n",
      "  if __name__ == '__main__':\n"
     ]
    },
    {
     "data": {
      "text/html": [
       "<div>\n",
       "<table border=\"1\" class=\"dataframe\">\n",
       "  <thead>\n",
       "    <tr style=\"text-align: right;\">\n",
       "      <th></th>\n",
       "      <th>fire_occured_dummy</th>\n",
       "      <th>usps_occupied_dummy</th>\n",
       "      <th>vote_dummy</th>\n",
       "      <th>year_total</th>\n",
       "      <th>electric_dummy</th>\n",
       "      <th>prediction_occupancy</th>\n",
       "      <th>prediction_occupancy_proba</th>\n",
       "      <th>Account Name</th>\n",
       "    </tr>\n",
       "  </thead>\n",
       "  <tbody>\n",
       "    <tr>\n",
       "      <th>56766</th>\n",
       "      <td>1</td>\n",
       "      <td>0</td>\n",
       "      <td>0</td>\n",
       "      <td>1600.0</td>\n",
       "      <td>0.0</td>\n",
       "      <td>0</td>\n",
       "      <td>0.0</td>\n",
       "      <td>14625 Greenlawn</td>\n",
       "    </tr>\n",
       "    <tr>\n",
       "      <th>51991</th>\n",
       "      <td>1</td>\n",
       "      <td>0</td>\n",
       "      <td>0</td>\n",
       "      <td>1100.0</td>\n",
       "      <td>0.0</td>\n",
       "      <td>0</td>\n",
       "      <td>0.0</td>\n",
       "      <td>6445 Auburn</td>\n",
       "    </tr>\n",
       "    <tr>\n",
       "      <th>5005</th>\n",
       "      <td>1</td>\n",
       "      <td>0</td>\n",
       "      <td>1</td>\n",
       "      <td>0.0</td>\n",
       "      <td>0.0</td>\n",
       "      <td>0</td>\n",
       "      <td>0.0</td>\n",
       "      <td>18030 Norwood</td>\n",
       "    </tr>\n",
       "    <tr>\n",
       "      <th>14499</th>\n",
       "      <td>1</td>\n",
       "      <td>0</td>\n",
       "      <td>1</td>\n",
       "      <td>0.0</td>\n",
       "      <td>0.0</td>\n",
       "      <td>0</td>\n",
       "      <td>0.0</td>\n",
       "      <td>14414 Evergreen</td>\n",
       "    </tr>\n",
       "    <tr>\n",
       "      <th>58718</th>\n",
       "      <td>1</td>\n",
       "      <td>0</td>\n",
       "      <td>1</td>\n",
       "      <td>0.0</td>\n",
       "      <td>0.0</td>\n",
       "      <td>0</td>\n",
       "      <td>0.0</td>\n",
       "      <td>19309 Oakfield</td>\n",
       "    </tr>\n",
       "  </tbody>\n",
       "</table>\n",
       "</div>"
      ],
      "text/plain": [
       "       fire_occured_dummy  usps_occupied_dummy  vote_dummy  year_total  \\\n",
       "56766                   1                    0           0      1600.0   \n",
       "51991                   1                    0           0      1100.0   \n",
       "5005                    1                    0           1         0.0   \n",
       "14499                   1                    0           1         0.0   \n",
       "58718                   1                    0           1         0.0   \n",
       "\n",
       "       electric_dummy  prediction_occupancy  prediction_occupancy_proba  \\\n",
       "56766             0.0                     0                         0.0   \n",
       "51991             0.0                     0                         0.0   \n",
       "5005              0.0                     0                         0.0   \n",
       "14499             0.0                     0                         0.0   \n",
       "58718             0.0                     0                         0.0   \n",
       "\n",
       "          Account Name  \n",
       "56766  14625 Greenlawn  \n",
       "51991      6445 Auburn  \n",
       "5005     18030 Norwood  \n",
       "14499  14414 Evergreen  \n",
       "58718   19309 Oakfield  "
      ]
     },
     "execution_count": 106,
     "metadata": {},
     "output_type": "execute_result"
    }
   ],
   "source": [
    "predictions_df.sort(columns='prediction_occupancy_proba').head()"
   ]
  },
  {
   "cell_type": "markdown",
   "metadata": {},
   "source": [
    "## Read in full data"
   ]
  },
  {
   "cell_type": "code",
   "execution_count": 107,
   "metadata": {
    "collapsed": true
   },
   "outputs": [],
   "source": [
    "data_full = '../data/OccModel_FittingFullData_20170922/'"
   ]
  },
  {
   "cell_type": "markdown",
   "metadata": {},
   "source": [
    "#### DTE data"
   ]
  },
  {
   "cell_type": "code",
   "execution_count": 108,
   "metadata": {
    "collapsed": false
   },
   "outputs": [],
   "source": [
    "dte_full_df = pd.read_csv(data_full + 'DTE_ActiveGasElectric_GeocoderMatches_20170920.txt')"
   ]
  },
  {
   "cell_type": "code",
   "execution_count": 109,
   "metadata": {
    "collapsed": false
   },
   "outputs": [],
   "source": [
    "dte_full_df = dte_full_df[['Ref_ID', 'DS_SER_PRODUCT_TYPE']]"
   ]
  },
  {
   "cell_type": "code",
   "execution_count": 110,
   "metadata": {
    "collapsed": true
   },
   "outputs": [],
   "source": [
    "### Deduplicate data\n",
    "dte_full_df = dte_full_df.drop_duplicates()"
   ]
  },
  {
   "cell_type": "code",
   "execution_count": 111,
   "metadata": {
    "collapsed": false
   },
   "outputs": [],
   "source": [
    "### long to wide reshape on DS_SER_PRODUCT_TYPE\n",
    "dte_full_df['gas_dummy'] = [1 if x=='GAS' else 0 for x in dte_full_df['DS_SER_PRODUCT_TYPE']]\n",
    "dte_full_df['electric_dummy'] = [1 if x=='ELC' else 0 for x in dte_full_df['DS_SER_PRODUCT_TYPE']]\n",
    "dte_full_df = dte_full_df.groupby(['Ref_ID'], as_index=False)['gas_dummy', 'electric_dummy'].sum()"
   ]
  },
  {
   "cell_type": "code",
   "execution_count": 112,
   "metadata": {
    "collapsed": false
   },
   "outputs": [
    {
     "data": {
      "text/plain": [
       "186539"
      ]
     },
     "execution_count": 112,
     "metadata": {},
     "output_type": "execute_result"
    }
   ],
   "source": [
    "len(dte_full_df)"
   ]
  },
  {
   "cell_type": "markdown",
   "metadata": {},
   "source": [
    "#### DWSD (Water Department) data"
   ]
  },
  {
   "cell_type": "code",
   "execution_count": 113,
   "metadata": {
    "collapsed": true
   },
   "outputs": [],
   "source": [
    "dwsd_full_df = pd.read_csv(data_full + 'DWSD_12Mo_20170825.csv')"
   ]
  },
  {
   "cell_type": "code",
   "execution_count": 114,
   "metadata": {
    "collapsed": true
   },
   "outputs": [],
   "source": [
    "def pandas_to_numeric(s):\n",
    "    s = s.str.replace(',', '')\n",
    "    return pd.to_numeric(s, errors='coerce')"
   ]
  },
  {
   "cell_type": "code",
   "execution_count": 115,
   "metadata": {
    "collapsed": false
   },
   "outputs": [],
   "source": [
    "dwsd_full_df[[u'NINE', u'TEN', u'ELEVEN', u'TWELVE', u'ONE', u'TWO', u'THREE', \\\n",
    "              u'FOUR', u'FIVE', u'SIX', u'SEVEN',u'EIGHT']] \\\n",
    "            = dwsd_full_df[[u'NINE', u'TEN', u'ELEVEN', u'TWELVE', u'ONE', \\\n",
    "                            u'TWO', u'THREE', u'FOUR', u'FIVE', u'SIX', u'SEVEN',\\\n",
    "                            u'EIGHT']].apply(pandas_to_numeric)"
   ]
  },
  {
   "cell_type": "code",
   "execution_count": 116,
   "metadata": {
    "collapsed": false
   },
   "outputs": [],
   "source": [
    "dwsd_full_df['year_total'] = dwsd_full_df.NINE + dwsd_full_df.TEN + dwsd_full_df.ELEVEN + \\\n",
    "                             dwsd_full_df.TWELVE + dwsd_full_df.ONE + dwsd_full_df.TWO + \\\n",
    "                             dwsd_full_df.THREE + dwsd_full_df.FOUR + dwsd_full_df.FIVE + \\\n",
    "                             dwsd_full_df.SIX + dwsd_full_df.SEVEN + dwsd_full_df.EIGHT"
   ]
  },
  {
   "cell_type": "code",
   "execution_count": 117,
   "metadata": {
    "collapsed": false
   },
   "outputs": [],
   "source": [
    "dwsd_full_df = dwsd_full_df[['REPAIREDPARCELID', u'year_total']]"
   ]
  },
  {
   "cell_type": "code",
   "execution_count": 118,
   "metadata": {
    "collapsed": true
   },
   "outputs": [],
   "source": [
    "dwsd_full_df.columns = ['Ref_ID', 'year_total']"
   ]
  },
  {
   "cell_type": "code",
   "execution_count": 119,
   "metadata": {
    "collapsed": false
   },
   "outputs": [],
   "source": [
    "### sum water amounts of duplicate properties \n",
    "dwsd_full_df = dwsd_full_df.groupby(['Ref_ID'], as_index=False)[ u'year_total'].sum()"
   ]
  },
  {
   "cell_type": "markdown",
   "metadata": {},
   "source": [
    "#### USPS / DFD (Fire Department) data"
   ]
  },
  {
   "cell_type": "code",
   "execution_count": 120,
   "metadata": {
    "collapsed": false
   },
   "outputs": [
    {
     "name": "stderr",
     "output_type": "stream",
     "text": [
      "/Users/geoffperrin/anaconda2/lib/python2.7/site-packages/IPython/core/interactiveshell.py:2723: DtypeWarning: Columns (5) have mixed types. Specify dtype option on import or set low_memory=False.\n",
      "  interactivity=interactivity, compiler=compiler, result=result)\n"
     ]
    }
   ],
   "source": [
    "usps_full_df = pd.read_csv(data_full + 'DFD_USPS_20170829.csv')"
   ]
  },
  {
   "cell_type": "code",
   "execution_count": 121,
   "metadata": {
    "collapsed": false
   },
   "outputs": [
    {
     "data": {
      "text/html": [
       "<div>\n",
       "<table border=\"1\" class=\"dataframe\">\n",
       "  <thead>\n",
       "    <tr style=\"text-align: right;\">\n",
       "      <th></th>\n",
       "      <th>Account Name</th>\n",
       "      <th>Parcel ID</th>\n",
       "      <th>Property Class</th>\n",
       "      <th>USPS: Last Update</th>\n",
       "      <th>USPS: Vacancy Indicated</th>\n",
       "      <th>DFD Fire: Occurrence Date</th>\n",
       "    </tr>\n",
       "  </thead>\n",
       "  <tbody>\n",
       "    <tr>\n",
       "      <th>0</th>\n",
       "      <td>2411 Wendell</td>\n",
       "      <td>20007595.</td>\n",
       "      <td>Residential-Structure</td>\n",
       "      <td>8/1/2017</td>\n",
       "      <td>No</td>\n",
       "      <td>8/19/2017</td>\n",
       "    </tr>\n",
       "    <tr>\n",
       "      <th>1</th>\n",
       "      <td>17208 Ohio</td>\n",
       "      <td>16033858.</td>\n",
       "      <td>Residential-Structure</td>\n",
       "      <td>8/1/2017</td>\n",
       "      <td>No</td>\n",
       "      <td>8/19/2017</td>\n",
       "    </tr>\n",
       "    <tr>\n",
       "      <th>2</th>\n",
       "      <td>60 E Euclid</td>\n",
       "      <td>01002534.</td>\n",
       "      <td>Residential-Structure</td>\n",
       "      <td>8/1/2017</td>\n",
       "      <td>No</td>\n",
       "      <td>8/19/2017</td>\n",
       "    </tr>\n",
       "    <tr>\n",
       "      <th>3</th>\n",
       "      <td>8154 W Lafayette</td>\n",
       "      <td>20002305.</td>\n",
       "      <td>Residential-Structure</td>\n",
       "      <td>8/1/2017</td>\n",
       "      <td>Yes</td>\n",
       "      <td>8/19/2017</td>\n",
       "    </tr>\n",
       "    <tr>\n",
       "      <th>4</th>\n",
       "      <td>16691 Fairmount Dr</td>\n",
       "      <td>21025509.001</td>\n",
       "      <td>Residential-Structure</td>\n",
       "      <td>8/1/2017</td>\n",
       "      <td>No</td>\n",
       "      <td>8/18/2017</td>\n",
       "    </tr>\n",
       "  </tbody>\n",
       "</table>\n",
       "</div>"
      ],
      "text/plain": [
       "         Account Name     Parcel ID         Property Class USPS: Last Update  \\\n",
       "0        2411 Wendell     20007595.  Residential-Structure          8/1/2017   \n",
       "1          17208 Ohio     16033858.  Residential-Structure          8/1/2017   \n",
       "2         60 E Euclid     01002534.  Residential-Structure          8/1/2017   \n",
       "3    8154 W Lafayette     20002305.  Residential-Structure          8/1/2017   \n",
       "4  16691 Fairmount Dr  21025509.001  Residential-Structure          8/1/2017   \n",
       "\n",
       "  USPS: Vacancy Indicated DFD Fire: Occurrence Date  \n",
       "0                      No                 8/19/2017  \n",
       "1                      No                 8/19/2017  \n",
       "2                      No                 8/19/2017  \n",
       "3                     Yes                 8/19/2017  \n",
       "4                      No                 8/18/2017  "
      ]
     },
     "execution_count": 121,
     "metadata": {},
     "output_type": "execute_result"
    }
   ],
   "source": [
    "usps_full_df.head()"
   ]
  },
  {
   "cell_type": "code",
   "execution_count": 122,
   "metadata": {
    "collapsed": false
   },
   "outputs": [],
   "source": [
    "usps_full_df.columns = [u'Account Name', u'Ref_ID', u'Property Class', u'USPS: Last Update',\n",
    "       u'USPS: Vacancy Indicated', u'DFD Fire: Occurrence Date',]"
   ]
  },
  {
   "cell_type": "code",
   "execution_count": 123,
   "metadata": {
    "collapsed": false
   },
   "outputs": [],
   "source": [
    "### subset to residential data\n",
    "usps_full_df = usps_full_df[usps_full_df['Property Class'] == 'Residential-Structure']"
   ]
  },
  {
   "cell_type": "code",
   "execution_count": 124,
   "metadata": {
    "collapsed": false
   },
   "outputs": [],
   "source": [
    "### create DFD fire dummy\n",
    "usps_full_df['fire_occured_dummy'] = [0 if pd.isnull(x) else 1 for x in usps_full_df['DFD Fire: Occurrence Date']]"
   ]
  },
  {
   "cell_type": "code",
   "execution_count": 125,
   "metadata": {
    "collapsed": true
   },
   "outputs": [],
   "source": [
    "### create USPS occupied dummy\n",
    "usps_full_df['usps_occupied_dummy'] = [1 if x == \"No\" else 0 for x in usps_full_df['USPS: Vacancy Indicated']]"
   ]
  },
  {
   "cell_type": "code",
   "execution_count": 126,
   "metadata": {
    "collapsed": true
   },
   "outputs": [],
   "source": [
    "### Just keep variables we need\n",
    "usps_full_df = usps_full_df[[u'Ref_ID', u'fire_occured_dummy',\n",
    "                   u'usps_occupied_dummy']]"
   ]
  },
  {
   "cell_type": "markdown",
   "metadata": {},
   "source": [
    "#### QVF (voter registration) data"
   ]
  },
  {
   "cell_type": "code",
   "execution_count": 127,
   "metadata": {
    "collapsed": false
   },
   "outputs": [
    {
     "name": "stderr",
     "output_type": "stream",
     "text": [
      "/Users/geoffperrin/anaconda2/lib/python2.7/site-packages/IPython/core/interactiveshell.py:2723: DtypeWarning: Columns (24) have mixed types. Specify dtype option on import or set low_memory=False.\n",
      "  interactivity=interactivity, compiler=compiler, result=result)\n"
     ]
    }
   ],
   "source": [
    "vote_full_df = pd.read_csv(data_full + 'QVF_Detroit_Geo_20170717.txt')"
   ]
  },
  {
   "cell_type": "code",
   "execution_count": 128,
   "metadata": {
    "collapsed": false
   },
   "outputs": [],
   "source": [
    "vote_full_df = vote_full_df[['Ref_ID']]\n",
    "vote_full_df['vote_dummy'] = 1"
   ]
  },
  {
   "cell_type": "code",
   "execution_count": 129,
   "metadata": {
    "collapsed": true
   },
   "outputs": [],
   "source": [
    "vote_full_df = vote_full_df.drop_duplicates()"
   ]
  },
  {
   "cell_type": "markdown",
   "metadata": {},
   "source": [
    "#### Address Data"
   ]
  },
  {
   "cell_type": "code",
   "execution_count": 130,
   "metadata": {
    "collapsed": true
   },
   "outputs": [],
   "source": [
    "addy_full_df = pd.read_csv(data_full + 'ResStructureParcelsAccountIDs_20170920.csv')"
   ]
  },
  {
   "cell_type": "code",
   "execution_count": 131,
   "metadata": {
    "collapsed": false
   },
   "outputs": [
    {
     "data": {
      "text/html": [
       "<div>\n",
       "<table border=\"1\" class=\"dataframe\">\n",
       "  <thead>\n",
       "    <tr style=\"text-align: right;\">\n",
       "      <th></th>\n",
       "      <th>Account ID</th>\n",
       "      <th>Parcel ID</th>\n",
       "      <th>Account Name</th>\n",
       "      <th>Property Ownership</th>\n",
       "      <th>Property Class</th>\n",
       "    </tr>\n",
       "  </thead>\n",
       "  <tbody>\n",
       "    <tr>\n",
       "      <th>0</th>\n",
       "      <td>001j000000IeFOx</td>\n",
       "      <td>22126050-1</td>\n",
       "      <td>14200 W Outer Drive</td>\n",
       "      <td>Non-DLBA Owned</td>\n",
       "      <td>Residential-Structure</td>\n",
       "    </tr>\n",
       "    <tr>\n",
       "      <th>1</th>\n",
       "      <td>001j000000IeFOp</td>\n",
       "      <td>22126047-9</td>\n",
       "      <td>14180 W Outer Drive</td>\n",
       "      <td>Non-DLBA Owned</td>\n",
       "      <td>Residential-Structure</td>\n",
       "    </tr>\n",
       "    <tr>\n",
       "      <th>2</th>\n",
       "      <td>001j000000IeFOZ</td>\n",
       "      <td>22126046.</td>\n",
       "      <td>14164 W Outer Drive</td>\n",
       "      <td>Non-DLBA Owned</td>\n",
       "      <td>Residential-Structure</td>\n",
       "    </tr>\n",
       "    <tr>\n",
       "      <th>3</th>\n",
       "      <td>001j000000IeFOM</td>\n",
       "      <td>22126045.</td>\n",
       "      <td>14158 W Outer Drive</td>\n",
       "      <td>Non-DLBA Owned</td>\n",
       "      <td>Residential-Structure</td>\n",
       "    </tr>\n",
       "    <tr>\n",
       "      <th>4</th>\n",
       "      <td>001j000000IeFO9</td>\n",
       "      <td>22126044.</td>\n",
       "      <td>14150 W Outer Drive</td>\n",
       "      <td>Non-DLBA Owned</td>\n",
       "      <td>Residential-Structure</td>\n",
       "    </tr>\n",
       "  </tbody>\n",
       "</table>\n",
       "</div>"
      ],
      "text/plain": [
       "        Account ID   Parcel ID         Account Name Property Ownership  \\\n",
       "0  001j000000IeFOx  22126050-1  14200 W Outer Drive     Non-DLBA Owned   \n",
       "1  001j000000IeFOp  22126047-9  14180 W Outer Drive     Non-DLBA Owned   \n",
       "2  001j000000IeFOZ   22126046.  14164 W Outer Drive     Non-DLBA Owned   \n",
       "3  001j000000IeFOM   22126045.  14158 W Outer Drive     Non-DLBA Owned   \n",
       "4  001j000000IeFO9   22126044.  14150 W Outer Drive     Non-DLBA Owned   \n",
       "\n",
       "          Property Class  \n",
       "0  Residential-Structure  \n",
       "1  Residential-Structure  \n",
       "2  Residential-Structure  \n",
       "3  Residential-Structure  \n",
       "4  Residential-Structure  "
      ]
     },
     "execution_count": 131,
     "metadata": {},
     "output_type": "execute_result"
    }
   ],
   "source": [
    "addy_full_df.head()"
   ]
  },
  {
   "cell_type": "code",
   "execution_count": null,
   "metadata": {
    "collapsed": true
   },
   "outputs": [],
   "source": []
  },
  {
   "cell_type": "code",
   "execution_count": 132,
   "metadata": {
    "collapsed": true
   },
   "outputs": [],
   "source": [
    "### subset to residential data\n",
    "addy_full_df = addy_full_df[addy_full_df['Property Class'] == 'Residential-Structure']"
   ]
  },
  {
   "cell_type": "code",
   "execution_count": 133,
   "metadata": {
    "collapsed": true
   },
   "outputs": [],
   "source": [
    "addy_full_df.columns = ['Account_ID', 'Ref_ID', 'Account_Name', 'Property_Ownership', 'Property_Class']"
   ]
  },
  {
   "cell_type": "code",
   "execution_count": 134,
   "metadata": {
    "collapsed": false
   },
   "outputs": [
    {
     "data": {
      "text/plain": [
       "234869"
      ]
     },
     "execution_count": 134,
     "metadata": {},
     "output_type": "execute_result"
    }
   ],
   "source": [
    "len(addy_full_df)"
   ]
  },
  {
   "cell_type": "markdown",
   "metadata": {},
   "source": [
    "### Merge Datasets together"
   ]
  },
  {
   "cell_type": "code",
   "execution_count": 135,
   "metadata": {
    "collapsed": true
   },
   "outputs": [],
   "source": [
    "# merge mcm data with usps / dfd data\n",
    "merged_full = addy_full_df.merge(usps_full_df, how='left', on='Ref_ID')"
   ]
  },
  {
   "cell_type": "code",
   "execution_count": 136,
   "metadata": {
    "collapsed": false
   },
   "outputs": [],
   "source": [
    "#merge on voter (qvf) data\n",
    "merged_full2 = merged_full.merge(vote_full_df, how='left', on='Ref_ID')"
   ]
  },
  {
   "cell_type": "code",
   "execution_count": 137,
   "metadata": {
    "collapsed": true
   },
   "outputs": [],
   "source": [
    "#fill in NaNs for vote_dummy\n",
    "merged_full2['vote_dummy'] = [0 if pd.isnull(x) else 1 for x in merged_full2['vote_dummy']]"
   ]
  },
  {
   "cell_type": "code",
   "execution_count": 138,
   "metadata": {
    "collapsed": false,
    "scrolled": false
   },
   "outputs": [],
   "source": [
    "#merge on dwsd data\n",
    "merged_full3 = merged_full2.merge(dwsd_full_df, how='left', on='Ref_ID')\n",
    "#fill in 0s for properties w/ no water\n",
    "merged_full3.fillna(value=0,inplace=True)"
   ]
  },
  {
   "cell_type": "code",
   "execution_count": 139,
   "metadata": {
    "collapsed": false
   },
   "outputs": [],
   "source": [
    "#merge on dte data\n",
    "merged_full_final = merged_full3.merge(dte_full_df, how='left', on='Ref_ID')\n",
    "merged_full_final.fillna(value=0,inplace=True)"
   ]
  },
  {
   "cell_type": "code",
   "execution_count": 140,
   "metadata": {
    "collapsed": false
   },
   "outputs": [
    {
     "data": {
      "text/html": [
       "<div>\n",
       "<table border=\"1\" class=\"dataframe\">\n",
       "  <thead>\n",
       "    <tr style=\"text-align: right;\">\n",
       "      <th></th>\n",
       "      <th>Account_ID</th>\n",
       "      <th>Ref_ID</th>\n",
       "      <th>Account_Name</th>\n",
       "      <th>Property_Ownership</th>\n",
       "      <th>Property_Class</th>\n",
       "      <th>fire_occured_dummy</th>\n",
       "      <th>usps_occupied_dummy</th>\n",
       "      <th>vote_dummy</th>\n",
       "      <th>year_total</th>\n",
       "      <th>gas_dummy</th>\n",
       "      <th>electric_dummy</th>\n",
       "    </tr>\n",
       "  </thead>\n",
       "  <tbody>\n",
       "    <tr>\n",
       "      <th>0</th>\n",
       "      <td>001j000000IeFOx</td>\n",
       "      <td>22126050-1</td>\n",
       "      <td>14200 W Outer Drive</td>\n",
       "      <td>Non-DLBA Owned</td>\n",
       "      <td>Residential-Structure</td>\n",
       "      <td>0.0</td>\n",
       "      <td>1.0</td>\n",
       "      <td>1</td>\n",
       "      <td>0.0</td>\n",
       "      <td>1.0</td>\n",
       "      <td>1.0</td>\n",
       "    </tr>\n",
       "    <tr>\n",
       "      <th>1</th>\n",
       "      <td>001j000000IeFOp</td>\n",
       "      <td>22126047-9</td>\n",
       "      <td>14180 W Outer Drive</td>\n",
       "      <td>Non-DLBA Owned</td>\n",
       "      <td>Residential-Structure</td>\n",
       "      <td>0.0</td>\n",
       "      <td>1.0</td>\n",
       "      <td>1</td>\n",
       "      <td>9400.0</td>\n",
       "      <td>0.0</td>\n",
       "      <td>0.0</td>\n",
       "    </tr>\n",
       "    <tr>\n",
       "      <th>2</th>\n",
       "      <td>001j000000IeFOZ</td>\n",
       "      <td>22126046.</td>\n",
       "      <td>14164 W Outer Drive</td>\n",
       "      <td>Non-DLBA Owned</td>\n",
       "      <td>Residential-Structure</td>\n",
       "      <td>0.0</td>\n",
       "      <td>1.0</td>\n",
       "      <td>1</td>\n",
       "      <td>2100.0</td>\n",
       "      <td>0.0</td>\n",
       "      <td>0.0</td>\n",
       "    </tr>\n",
       "    <tr>\n",
       "      <th>3</th>\n",
       "      <td>001j000000IeFOM</td>\n",
       "      <td>22126045.</td>\n",
       "      <td>14158 W Outer Drive</td>\n",
       "      <td>Non-DLBA Owned</td>\n",
       "      <td>Residential-Structure</td>\n",
       "      <td>0.0</td>\n",
       "      <td>1.0</td>\n",
       "      <td>1</td>\n",
       "      <td>14700.0</td>\n",
       "      <td>0.0</td>\n",
       "      <td>0.0</td>\n",
       "    </tr>\n",
       "    <tr>\n",
       "      <th>4</th>\n",
       "      <td>001j000000IeFO9</td>\n",
       "      <td>22126044.</td>\n",
       "      <td>14150 W Outer Drive</td>\n",
       "      <td>Non-DLBA Owned</td>\n",
       "      <td>Residential-Structure</td>\n",
       "      <td>0.0</td>\n",
       "      <td>1.0</td>\n",
       "      <td>1</td>\n",
       "      <td>3100.0</td>\n",
       "      <td>1.0</td>\n",
       "      <td>1.0</td>\n",
       "    </tr>\n",
       "  </tbody>\n",
       "</table>\n",
       "</div>"
      ],
      "text/plain": [
       "        Account_ID      Ref_ID         Account_Name Property_Ownership  \\\n",
       "0  001j000000IeFOx  22126050-1  14200 W Outer Drive     Non-DLBA Owned   \n",
       "1  001j000000IeFOp  22126047-9  14180 W Outer Drive     Non-DLBA Owned   \n",
       "2  001j000000IeFOZ   22126046.  14164 W Outer Drive     Non-DLBA Owned   \n",
       "3  001j000000IeFOM   22126045.  14158 W Outer Drive     Non-DLBA Owned   \n",
       "4  001j000000IeFO9   22126044.  14150 W Outer Drive     Non-DLBA Owned   \n",
       "\n",
       "          Property_Class  fire_occured_dummy  usps_occupied_dummy  vote_dummy  \\\n",
       "0  Residential-Structure                 0.0                  1.0           1   \n",
       "1  Residential-Structure                 0.0                  1.0           1   \n",
       "2  Residential-Structure                 0.0                  1.0           1   \n",
       "3  Residential-Structure                 0.0                  1.0           1   \n",
       "4  Residential-Structure                 0.0                  1.0           1   \n",
       "\n",
       "   year_total  gas_dummy  electric_dummy  \n",
       "0         0.0        1.0             1.0  \n",
       "1      9400.0        0.0             0.0  \n",
       "2      2100.0        0.0             0.0  \n",
       "3     14700.0        0.0             0.0  \n",
       "4      3100.0        1.0             1.0  "
      ]
     },
     "execution_count": 140,
     "metadata": {},
     "output_type": "execute_result"
    }
   ],
   "source": [
    "merged_full_final.head()"
   ]
  },
  {
   "cell_type": "code",
   "execution_count": 141,
   "metadata": {
    "collapsed": false
   },
   "outputs": [
    {
     "data": {
      "text/plain": [
       "Index([         u'Account_ID',              u'Ref_ID',        u'Account_Name',\n",
       "        u'Property_Ownership',      u'Property_Class',  u'fire_occured_dummy',\n",
       "       u'usps_occupied_dummy',          u'vote_dummy',          u'year_total',\n",
       "                 u'gas_dummy',      u'electric_dummy'],\n",
       "      dtype='object')"
      ]
     },
     "execution_count": 141,
     "metadata": {},
     "output_type": "execute_result"
    }
   ],
   "source": [
    "merged_full_final.columns"
   ]
  },
  {
   "cell_type": "code",
   "execution_count": 142,
   "metadata": {
    "collapsed": false
   },
   "outputs": [
    {
     "data": {
      "text/plain": [
       "234869"
      ]
     },
     "execution_count": 142,
     "metadata": {},
     "output_type": "execute_result"
    }
   ],
   "source": [
    "len(merged_full_final)"
   ]
  },
  {
   "cell_type": "code",
   "execution_count": 143,
   "metadata": {
    "collapsed": false
   },
   "outputs": [
    {
     "data": {
      "text/html": [
       "<div>\n",
       "<table border=\"1\" class=\"dataframe\">\n",
       "  <thead>\n",
       "    <tr style=\"text-align: right;\">\n",
       "      <th></th>\n",
       "      <th>Account_ID</th>\n",
       "      <th>Ref_ID</th>\n",
       "      <th>Account_Name</th>\n",
       "      <th>Property_Ownership</th>\n",
       "      <th>Property_Class</th>\n",
       "      <th>fire_occured_dummy</th>\n",
       "      <th>usps_occupied_dummy</th>\n",
       "      <th>vote_dummy</th>\n",
       "      <th>year_total</th>\n",
       "      <th>gas_dummy</th>\n",
       "      <th>electric_dummy</th>\n",
       "    </tr>\n",
       "  </thead>\n",
       "  <tbody>\n",
       "    <tr>\n",
       "      <th>0</th>\n",
       "      <td>001j000000IeFOx</td>\n",
       "      <td>22126050-1</td>\n",
       "      <td>14200 W Outer Drive</td>\n",
       "      <td>Non-DLBA Owned</td>\n",
       "      <td>Residential-Structure</td>\n",
       "      <td>0.0</td>\n",
       "      <td>1.0</td>\n",
       "      <td>1</td>\n",
       "      <td>0.0</td>\n",
       "      <td>1.0</td>\n",
       "      <td>1.0</td>\n",
       "    </tr>\n",
       "    <tr>\n",
       "      <th>1</th>\n",
       "      <td>001j000000IeFOp</td>\n",
       "      <td>22126047-9</td>\n",
       "      <td>14180 W Outer Drive</td>\n",
       "      <td>Non-DLBA Owned</td>\n",
       "      <td>Residential-Structure</td>\n",
       "      <td>0.0</td>\n",
       "      <td>1.0</td>\n",
       "      <td>1</td>\n",
       "      <td>9400.0</td>\n",
       "      <td>0.0</td>\n",
       "      <td>0.0</td>\n",
       "    </tr>\n",
       "    <tr>\n",
       "      <th>2</th>\n",
       "      <td>001j000000IeFOZ</td>\n",
       "      <td>22126046.</td>\n",
       "      <td>14164 W Outer Drive</td>\n",
       "      <td>Non-DLBA Owned</td>\n",
       "      <td>Residential-Structure</td>\n",
       "      <td>0.0</td>\n",
       "      <td>1.0</td>\n",
       "      <td>1</td>\n",
       "      <td>2100.0</td>\n",
       "      <td>0.0</td>\n",
       "      <td>0.0</td>\n",
       "    </tr>\n",
       "    <tr>\n",
       "      <th>3</th>\n",
       "      <td>001j000000IeFOM</td>\n",
       "      <td>22126045.</td>\n",
       "      <td>14158 W Outer Drive</td>\n",
       "      <td>Non-DLBA Owned</td>\n",
       "      <td>Residential-Structure</td>\n",
       "      <td>0.0</td>\n",
       "      <td>1.0</td>\n",
       "      <td>1</td>\n",
       "      <td>14700.0</td>\n",
       "      <td>0.0</td>\n",
       "      <td>0.0</td>\n",
       "    </tr>\n",
       "    <tr>\n",
       "      <th>4</th>\n",
       "      <td>001j000000IeFO9</td>\n",
       "      <td>22126044.</td>\n",
       "      <td>14150 W Outer Drive</td>\n",
       "      <td>Non-DLBA Owned</td>\n",
       "      <td>Residential-Structure</td>\n",
       "      <td>0.0</td>\n",
       "      <td>1.0</td>\n",
       "      <td>1</td>\n",
       "      <td>3100.0</td>\n",
       "      <td>1.0</td>\n",
       "      <td>1.0</td>\n",
       "    </tr>\n",
       "  </tbody>\n",
       "</table>\n",
       "</div>"
      ],
      "text/plain": [
       "        Account_ID      Ref_ID         Account_Name Property_Ownership  \\\n",
       "0  001j000000IeFOx  22126050-1  14200 W Outer Drive     Non-DLBA Owned   \n",
       "1  001j000000IeFOp  22126047-9  14180 W Outer Drive     Non-DLBA Owned   \n",
       "2  001j000000IeFOZ   22126046.  14164 W Outer Drive     Non-DLBA Owned   \n",
       "3  001j000000IeFOM   22126045.  14158 W Outer Drive     Non-DLBA Owned   \n",
       "4  001j000000IeFO9   22126044.  14150 W Outer Drive     Non-DLBA Owned   \n",
       "\n",
       "          Property_Class  fire_occured_dummy  usps_occupied_dummy  vote_dummy  \\\n",
       "0  Residential-Structure                 0.0                  1.0           1   \n",
       "1  Residential-Structure                 0.0                  1.0           1   \n",
       "2  Residential-Structure                 0.0                  1.0           1   \n",
       "3  Residential-Structure                 0.0                  1.0           1   \n",
       "4  Residential-Structure                 0.0                  1.0           1   \n",
       "\n",
       "   year_total  gas_dummy  electric_dummy  \n",
       "0         0.0        1.0             1.0  \n",
       "1      9400.0        0.0             0.0  \n",
       "2      2100.0        0.0             0.0  \n",
       "3     14700.0        0.0             0.0  \n",
       "4      3100.0        1.0             1.0  "
      ]
     },
     "execution_count": 143,
     "metadata": {},
     "output_type": "execute_result"
    }
   ],
   "source": [
    "merged_full_final.head()"
   ]
  },
  {
   "cell_type": "code",
   "execution_count": null,
   "metadata": {
    "collapsed": true
   },
   "outputs": [],
   "source": []
  }
 ],
 "metadata": {
  "anaconda-cloud": {},
  "kernelspec": {
   "display_name": "Python [Root]",
   "language": "python",
   "name": "Python [Root]"
  },
  "language_info": {
   "codemirror_mode": {
    "name": "ipython",
    "version": 2
   },
   "file_extension": ".py",
   "mimetype": "text/x-python",
   "name": "python",
   "nbconvert_exporter": "python",
   "pygments_lexer": "ipython2",
   "version": "2.7.12"
  }
 },
 "nbformat": 4,
 "nbformat_minor": 2
}
