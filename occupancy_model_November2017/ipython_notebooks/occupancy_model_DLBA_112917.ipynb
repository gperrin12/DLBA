{
 "cells": [
  {
   "cell_type": "markdown",
   "metadata": {},
   "source": [
    "# Detroit Land Bank Authority (DLBA) Occupancy Model"
   ]
  },
  {
   "cell_type": "markdown",
   "metadata": {},
   "source": [
    "Geoff Perrin - 11.29.17\n",
    "\n",
    "- This notebook is an update to the occupancy model I built for the DLBA last summer that predicts the occupancy of every single-family residential home in the city of Detroit. This model has many uses, but the initial use case was for the DLBA to better manage their housing inventory, and do a quicker and more accurate job sorting the DLBA housing stock into the oppropriate pipeline (i.e. demolition, buy-back, public auction, etc.)"
   ]
  },
  {
   "cell_type": "code",
   "execution_count": 1,
   "metadata": {
    "collapsed": true
   },
   "outputs": [],
   "source": [
    "#import data libraries\n",
    "import pandas as pd\n",
    "import numpy as np\n",
    "import matplotlib.pyplot as plt\n",
    "\n",
    "\n",
    "np.random.seed(222)\n",
    "%matplotlib inline"
   ]
  },
  {
   "cell_type": "code",
   "execution_count": 2,
   "metadata": {
    "collapsed": false
   },
   "outputs": [
    {
     "name": "stderr",
     "output_type": "stream",
     "text": [
      "/Users/geoffperrin/anaconda2/lib/python2.7/site-packages/sklearn/cross_validation.py:44: DeprecationWarning: This module was deprecated in version 0.18 in favor of the model_selection module into which all the refactored classes and functions are moved. Also note that the interface of the new CV iterators are different from that of this module. This module will be removed in 0.20.\n",
      "  \"This module will be removed in 0.20.\", DeprecationWarning)\n"
     ]
    }
   ],
   "source": [
    "#import machine learning / classification libraries\n",
    "from sklearn.cross_validation import train_test_split\n",
    "from sklearn import tree\n",
    "from sklearn.metrics import classification_report\n",
    "from sklearn.ensemble import RandomForestClassifier as RFC\n",
    "import graphviz\n",
    "from sklearn.model_selection import GridSearchCV\n",
    "from sklearn.feature_selection import RFE"
   ]
  },
  {
   "cell_type": "code",
   "execution_count": 3,
   "metadata": {
    "collapsed": true
   },
   "outputs": [],
   "source": [
    "pd.options.display.max_columns = 120\n",
    "pd.options.display.max_rows = 120"
   ]
  },
  {
   "cell_type": "markdown",
   "metadata": {},
   "source": [
    "### Load Datasets"
   ]
  },
  {
   "cell_type": "code",
   "execution_count": 4,
   "metadata": {
    "collapsed": true
   },
   "outputs": [],
   "source": [
    "data = '../data/OccModel_TrainingInputData_20170117/'"
   ]
  },
  {
   "cell_type": "markdown",
   "metadata": {},
   "source": [
    "#### DTE data"
   ]
  },
  {
   "cell_type": "code",
   "execution_count": 5,
   "metadata": {
    "collapsed": false
   },
   "outputs": [
    {
     "name": "stderr",
     "output_type": "stream",
     "text": [
      "/Users/geoffperrin/anaconda2/lib/python2.7/site-packages/IPython/core/interactiveshell.py:2723: DtypeWarning: Columns (15,17,21) have mixed types. Specify dtype option on import or set low_memory=False.\n",
      "  interactivity=interactivity, compiler=compiler, result=result)\n"
     ]
    }
   ],
   "source": [
    "dte_df = pd.read_csv(data + 'DTE_ActiveAgreementsGasElectric_20160824.txt')"
   ]
  },
  {
   "cell_type": "code",
   "execution_count": 6,
   "metadata": {
    "collapsed": false
   },
   "outputs": [],
   "source": [
    "dte_df = dte_df[['Ref_ID', 'DS_SER_PRODUCT_TYPE']]"
   ]
  },
  {
   "cell_type": "code",
   "execution_count": 7,
   "metadata": {
    "collapsed": true
   },
   "outputs": [],
   "source": [
    "### Deduplicate data\n",
    "dte_df = dte_df.drop_duplicates()"
   ]
  },
  {
   "cell_type": "code",
   "execution_count": 8,
   "metadata": {
    "collapsed": false
   },
   "outputs": [],
   "source": [
    "### long to wide reshape on DS_SER_PRODUCT_TYPE\n",
    "dte_df['gas_dummy'] = [1 if x=='GAS' else 0 for x in dte_df['DS_SER_PRODUCT_TYPE']]\n",
    "dte_df['electric_dummy'] = [1 if x=='ELC' else 0 for x in dte_df['DS_SER_PRODUCT_TYPE']]\n",
    "dte_df = dte_df.groupby(['Ref_ID'], as_index=False)['gas_dummy', 'electric_dummy'].sum()"
   ]
  },
  {
   "cell_type": "markdown",
   "metadata": {},
   "source": [
    "#### DWSD (Water Department) data"
   ]
  },
  {
   "cell_type": "code",
   "execution_count": 9,
   "metadata": {
    "collapsed": true
   },
   "outputs": [],
   "source": [
    "dwsd_df = pd.read_csv(data + 'DWSD_12MoUsage_20160815.csv')"
   ]
  },
  {
   "cell_type": "code",
   "execution_count": 10,
   "metadata": {
    "collapsed": false
   },
   "outputs": [],
   "source": [
    "dwsd_df = dwsd_df[['Ref_ID', 'Street_ID', 'Add_Geocode', 'ZIP', \n",
    "                   u'TOTALACCOUNTBALANCE', u'DECEMBER', u'NOVEMBER',\n",
    "                   u'OCTOBER', u'SEPTEMBER', u'AUGUST', u'JULY', \n",
    "                   u'JUNE', u'MAY', u'APRIL',u'MARCH', u'FEBRUARY', \n",
    "                   u'JANUARY']]"
   ]
  },
  {
   "cell_type": "code",
   "execution_count": 11,
   "metadata": {
    "collapsed": false
   },
   "outputs": [],
   "source": [
    "dwsd_df['year_total'] = dwsd_df.DECEMBER + dwsd_df.NOVEMBER + dwsd_df.OCTOBER + dwsd_df.SEPTEMBER +\\\n",
    "                        dwsd_df.AUGUST + dwsd_df.JULY +dwsd_df.JUNE + dwsd_df.MAY + dwsd_df.APRIL +\\\n",
    "                        dwsd_df.MARCH + dwsd_df.FEBRUARY + dwsd_df.JANUARY"
   ]
  },
  {
   "cell_type": "code",
   "execution_count": 12,
   "metadata": {
    "collapsed": true
   },
   "outputs": [],
   "source": [
    "### sum water amounts of duplicate properties \n",
    "dwsd_df = dwsd_df.groupby(['Ref_ID'], as_index=False)[ u'TOTALACCOUNTBALANCE',\n",
    "       u'DECEMBER', u'NOVEMBER', u'OCTOBER', u'SEPTEMBER', u'AUGUST', u'JULY',\n",
    "       u'JUNE', u'MAY', u'APRIL', u'MARCH', u'FEBRUARY', u'JANUARY',\n",
    "       u'year_total'].sum()"
   ]
  },
  {
   "cell_type": "markdown",
   "metadata": {},
   "source": [
    "#### USPS / DFD (Fire Department) data"
   ]
  },
  {
   "cell_type": "code",
   "execution_count": 13,
   "metadata": {
    "collapsed": true
   },
   "outputs": [],
   "source": [
    "usps_df = pd.read_csv(data + 'Fire_USPS_Data_8_18_16.csv')"
   ]
  },
  {
   "cell_type": "code",
   "execution_count": 14,
   "metadata": {
    "collapsed": false
   },
   "outputs": [],
   "source": [
    "usps_df.columns = [u'Account Name', u'Ref_ID', u'Property Class', u'USPS: Last Update',\n",
    "       u'USPS: Vacancy Indicated', u'DFD Fire: Occurrence Date',\n",
    "       u'DFD Fire: Structure Status']"
   ]
  },
  {
   "cell_type": "code",
   "execution_count": 15,
   "metadata": {
    "collapsed": false
   },
   "outputs": [],
   "source": [
    "### subset to residential data\n",
    "usps_df = usps_df[usps_df['Property Class'] == 'Residential-Structure']"
   ]
  },
  {
   "cell_type": "code",
   "execution_count": 16,
   "metadata": {
    "collapsed": false
   },
   "outputs": [],
   "source": [
    "### create DFD fire dummy\n",
    "usps_df['fire_occured_dummy'] = [0 if pd.isnull(x) else 1 for x in usps_df['DFD Fire: Occurrence Date']]"
   ]
  },
  {
   "cell_type": "code",
   "execution_count": 17,
   "metadata": {
    "collapsed": true
   },
   "outputs": [],
   "source": [
    "### create USPS occupied dummy\n",
    "usps_df['usps_occupied_dummy'] = [1 if x == \"No\" else 0 for x in usps_df['USPS: Vacancy Indicated']]"
   ]
  },
  {
   "cell_type": "code",
   "execution_count": 18,
   "metadata": {
    "collapsed": true
   },
   "outputs": [],
   "source": [
    "### Just keep variables we need\n",
    "usps_df = usps_df[[u'Ref_ID', u'fire_occured_dummy',\n",
    "                   u'usps_occupied_dummy']]"
   ]
  },
  {
   "cell_type": "markdown",
   "metadata": {},
   "source": [
    "#### QVF (voter registration) data"
   ]
  },
  {
   "cell_type": "code",
   "execution_count": 19,
   "metadata": {
    "collapsed": false
   },
   "outputs": [
    {
     "name": "stderr",
     "output_type": "stream",
     "text": [
      "/Users/geoffperrin/anaconda2/lib/python2.7/site-packages/IPython/core/interactiveshell.py:2723: DtypeWarning: Columns (0,2,4,5,6,7) have mixed types. Specify dtype option on import or set low_memory=False.\n",
      "  interactivity=interactivity, compiler=compiler, result=result)\n"
     ]
    }
   ],
   "source": [
    "vote_df = pd.read_csv(data + 'QVF_Detroit20160816.csv')"
   ]
  },
  {
   "cell_type": "code",
   "execution_count": 20,
   "metadata": {
    "collapsed": false
   },
   "outputs": [],
   "source": [
    "vote_df = vote_df[['Ref_ID']]\n",
    "vote_df['vote_dummy'] = 1"
   ]
  },
  {
   "cell_type": "code",
   "execution_count": 21,
   "metadata": {
    "collapsed": true
   },
   "outputs": [],
   "source": [
    "vote_df = vote_df.drop_duplicates()"
   ]
  },
  {
   "cell_type": "markdown",
   "metadata": {},
   "source": [
    "#### Blext data (Motor City Mapping data)\n",
    "- https://motorcitymapping.org/#t=overview&s=detroit&f=all"
   ]
  },
  {
   "cell_type": "code",
   "execution_count": 22,
   "metadata": {
    "collapsed": true
   },
   "outputs": [],
   "source": [
    "mcm_df = pd.read_csv(data + 'Recent_Blexts_8_18_16_v2.csv')"
   ]
  },
  {
   "cell_type": "code",
   "execution_count": 23,
   "metadata": {
    "collapsed": false
   },
   "outputs": [],
   "source": [
    "mcm_df.columns = [u'Account Name', u'Ref_ID', u'MCM Condition', u'MCM Structure',\n",
    "       u'Property Class', u'MCM Occupancy', u'MCM Blext Created At']"
   ]
  },
  {
   "cell_type": "code",
   "execution_count": 24,
   "metadata": {
    "collapsed": true
   },
   "outputs": [],
   "source": [
    "### subset to residential data\n",
    "mcm_df = mcm_df[mcm_df['Property Class'] == 'Residential-Structure']"
   ]
  },
  {
   "cell_type": "code",
   "execution_count": 25,
   "metadata": {
    "collapsed": true
   },
   "outputs": [],
   "source": [
    "### subset to non-lot properties\n",
    "mcm_df = mcm_df[mcm_df['MCM Structure'] == 'Yes']"
   ]
  },
  {
   "cell_type": "markdown",
   "metadata": {},
   "source": [
    "#### Note from Alice Hargreaves:"
   ]
  },
  {
   "cell_type": "markdown",
   "metadata": {},
   "source": [
    "NOTE: code \"maybe\" or \"partial\" occupied houses as occupied... Ive googled a lot of the \"maybes\" and theyre nearly all structually sound --- i.e., someone could occupy it, but someone might not be sleeping there every night - GP line of thinking about 3k rows are \"maybe\" or \"partial\" \n",
    "\n",
    "(R-code below):"
   ]
  },
  {
   "cell_type": "raw",
   "metadata": {},
   "source": [
    "blext_unknown<-subset(blext, (!(blext$MCM.Occupancy==\"Occupied\") & !(blext$MCM.Occupancy==\"Unoccupied\")))"
   ]
  },
  {
   "cell_type": "code",
   "execution_count": 26,
   "metadata": {
    "collapsed": true
   },
   "outputs": [],
   "source": [
    "def occupancy_binary(x):\n",
    "    if (x == \"Occupied\") | (x == \"Unoccupied\"):\n",
    "        return x\n",
    "    else:\n",
    "        return \"Occupied\""
   ]
  },
  {
   "cell_type": "code",
   "execution_count": 27,
   "metadata": {
    "collapsed": false
   },
   "outputs": [],
   "source": [
    "mcm_df['MCM Occupancy'] = mcm_df['MCM Occupancy'].apply(occupancy_binary)"
   ]
  },
  {
   "cell_type": "markdown",
   "metadata": {},
   "source": [
    "### Merge Datasets together"
   ]
  },
  {
   "cell_type": "code",
   "execution_count": 28,
   "metadata": {
    "collapsed": true
   },
   "outputs": [],
   "source": [
    "# merge mcm data with usps / dfd data\n",
    "merged_train = mcm_df.merge(usps_df, how='left', on='Ref_ID')"
   ]
  },
  {
   "cell_type": "code",
   "execution_count": 29,
   "metadata": {
    "collapsed": false
   },
   "outputs": [],
   "source": [
    "#merge on voter (qvf) data\n",
    "merged_train2 = merged_train.merge(vote_df, how='left', on='Ref_ID')"
   ]
  },
  {
   "cell_type": "code",
   "execution_count": 30,
   "metadata": {
    "collapsed": true
   },
   "outputs": [],
   "source": [
    "#fill in NaNs for vote_dummy\n",
    "merged_train2['vote_dummy'] = [0 if pd.isnull(x) else 1 for x in merged_train2['vote_dummy']]"
   ]
  },
  {
   "cell_type": "code",
   "execution_count": 31,
   "metadata": {
    "collapsed": false,
    "scrolled": false
   },
   "outputs": [],
   "source": [
    "#merge on dwsd data\n",
    "merged_train3 = merged_train2.merge(dwsd_df, how='left', on='Ref_ID')\n",
    "#fill in 0s for properties w/ no water\n",
    "merged_train3.fillna(value=0,inplace=True)"
   ]
  },
  {
   "cell_type": "code",
   "execution_count": 32,
   "metadata": {
    "collapsed": false
   },
   "outputs": [],
   "source": [
    "#merge on dte data\n",
    "merged_train_final = merged_train3.merge(dte_df, how='left', on='Ref_ID')\n",
    "merged_train_final.fillna(value=0,inplace=True)"
   ]
  },
  {
   "cell_type": "code",
   "execution_count": 33,
   "metadata": {
    "collapsed": false
   },
   "outputs": [
    {
     "data": {
      "text/html": [
       "<div>\n",
       "<table border=\"1\" class=\"dataframe\">\n",
       "  <thead>\n",
       "    <tr style=\"text-align: right;\">\n",
       "      <th></th>\n",
       "      <th>Account Name</th>\n",
       "      <th>Ref_ID</th>\n",
       "      <th>MCM Condition</th>\n",
       "      <th>MCM Structure</th>\n",
       "      <th>Property Class</th>\n",
       "      <th>MCM Occupancy</th>\n",
       "      <th>MCM Blext Created At</th>\n",
       "      <th>fire_occured_dummy</th>\n",
       "      <th>usps_occupied_dummy</th>\n",
       "      <th>vote_dummy</th>\n",
       "      <th>TOTALACCOUNTBALANCE</th>\n",
       "      <th>DECEMBER</th>\n",
       "      <th>NOVEMBER</th>\n",
       "      <th>OCTOBER</th>\n",
       "      <th>SEPTEMBER</th>\n",
       "      <th>AUGUST</th>\n",
       "      <th>JULY</th>\n",
       "      <th>JUNE</th>\n",
       "      <th>MAY</th>\n",
       "      <th>APRIL</th>\n",
       "      <th>MARCH</th>\n",
       "      <th>FEBRUARY</th>\n",
       "      <th>JANUARY</th>\n",
       "      <th>year_total</th>\n",
       "      <th>gas_dummy</th>\n",
       "      <th>electric_dummy</th>\n",
       "    </tr>\n",
       "  </thead>\n",
       "  <tbody>\n",
       "    <tr>\n",
       "      <th>0</th>\n",
       "      <td>13776 St Louis</td>\n",
       "      <td>13011231.</td>\n",
       "      <td>Good</td>\n",
       "      <td>Yes</td>\n",
       "      <td>Residential-Structure</td>\n",
       "      <td>Occupied</td>\n",
       "      <td>8/16/2016 14:52</td>\n",
       "      <td>0</td>\n",
       "      <td>1</td>\n",
       "      <td>0</td>\n",
       "      <td>129.35</td>\n",
       "      <td>200.0</td>\n",
       "      <td>8000.0</td>\n",
       "      <td>8100.0</td>\n",
       "      <td>200.0</td>\n",
       "      <td>200.0</td>\n",
       "      <td>200.0</td>\n",
       "      <td>200.0</td>\n",
       "      <td>100.0</td>\n",
       "      <td>200.0</td>\n",
       "      <td>100.0</td>\n",
       "      <td>200.0</td>\n",
       "      <td>100.0</td>\n",
       "      <td>17800.0</td>\n",
       "      <td>1.0</td>\n",
       "      <td>1.0</td>\n",
       "    </tr>\n",
       "    <tr>\n",
       "      <th>1</th>\n",
       "      <td>13782 St Louis</td>\n",
       "      <td>13011232.</td>\n",
       "      <td>Good</td>\n",
       "      <td>Yes</td>\n",
       "      <td>Residential-Structure</td>\n",
       "      <td>Occupied</td>\n",
       "      <td>8/16/2016 14:52</td>\n",
       "      <td>0</td>\n",
       "      <td>1</td>\n",
       "      <td>0</td>\n",
       "      <td>0.00</td>\n",
       "      <td>0.0</td>\n",
       "      <td>0.0</td>\n",
       "      <td>0.0</td>\n",
       "      <td>0.0</td>\n",
       "      <td>0.0</td>\n",
       "      <td>0.0</td>\n",
       "      <td>0.0</td>\n",
       "      <td>0.0</td>\n",
       "      <td>0.0</td>\n",
       "      <td>0.0</td>\n",
       "      <td>0.0</td>\n",
       "      <td>0.0</td>\n",
       "      <td>0.0</td>\n",
       "      <td>0.0</td>\n",
       "      <td>0.0</td>\n",
       "    </tr>\n",
       "    <tr>\n",
       "      <th>2</th>\n",
       "      <td>13790 St Louis</td>\n",
       "      <td>13011233.</td>\n",
       "      <td>Good</td>\n",
       "      <td>Yes</td>\n",
       "      <td>Residential-Structure</td>\n",
       "      <td>Occupied</td>\n",
       "      <td>8/16/2016 14:51</td>\n",
       "      <td>0</td>\n",
       "      <td>1</td>\n",
       "      <td>0</td>\n",
       "      <td>27.97</td>\n",
       "      <td>900.0</td>\n",
       "      <td>900.0</td>\n",
       "      <td>800.0</td>\n",
       "      <td>800.0</td>\n",
       "      <td>1100.0</td>\n",
       "      <td>900.0</td>\n",
       "      <td>900.0</td>\n",
       "      <td>800.0</td>\n",
       "      <td>800.0</td>\n",
       "      <td>800.0</td>\n",
       "      <td>800.0</td>\n",
       "      <td>1100.0</td>\n",
       "      <td>10600.0</td>\n",
       "      <td>1.0</td>\n",
       "      <td>1.0</td>\n",
       "    </tr>\n",
       "    <tr>\n",
       "      <th>3</th>\n",
       "      <td>13777 St Louis</td>\n",
       "      <td>13011536.</td>\n",
       "      <td>Fair</td>\n",
       "      <td>Yes</td>\n",
       "      <td>Residential-Structure</td>\n",
       "      <td>Unoccupied</td>\n",
       "      <td>8/16/2016 14:50</td>\n",
       "      <td>0</td>\n",
       "      <td>0</td>\n",
       "      <td>0</td>\n",
       "      <td>0.00</td>\n",
       "      <td>0.0</td>\n",
       "      <td>0.0</td>\n",
       "      <td>0.0</td>\n",
       "      <td>0.0</td>\n",
       "      <td>0.0</td>\n",
       "      <td>0.0</td>\n",
       "      <td>0.0</td>\n",
       "      <td>0.0</td>\n",
       "      <td>0.0</td>\n",
       "      <td>0.0</td>\n",
       "      <td>0.0</td>\n",
       "      <td>0.0</td>\n",
       "      <td>0.0</td>\n",
       "      <td>1.0</td>\n",
       "      <td>1.0</td>\n",
       "    </tr>\n",
       "    <tr>\n",
       "      <th>4</th>\n",
       "      <td>13761 St Louis</td>\n",
       "      <td>13011538.</td>\n",
       "      <td>Good</td>\n",
       "      <td>Yes</td>\n",
       "      <td>Residential-Structure</td>\n",
       "      <td>Occupied</td>\n",
       "      <td>8/16/2016 14:49</td>\n",
       "      <td>0</td>\n",
       "      <td>1</td>\n",
       "      <td>0</td>\n",
       "      <td>13.87</td>\n",
       "      <td>400.0</td>\n",
       "      <td>300.0</td>\n",
       "      <td>300.0</td>\n",
       "      <td>300.0</td>\n",
       "      <td>300.0</td>\n",
       "      <td>300.0</td>\n",
       "      <td>300.0</td>\n",
       "      <td>200.0</td>\n",
       "      <td>300.0</td>\n",
       "      <td>200.0</td>\n",
       "      <td>300.0</td>\n",
       "      <td>300.0</td>\n",
       "      <td>3500.0</td>\n",
       "      <td>1.0</td>\n",
       "      <td>1.0</td>\n",
       "    </tr>\n",
       "  </tbody>\n",
       "</table>\n",
       "</div>"
      ],
      "text/plain": [
       "     Account Name     Ref_ID MCM Condition MCM Structure  \\\n",
       "0  13776 St Louis  13011231.          Good           Yes   \n",
       "1  13782 St Louis  13011232.          Good           Yes   \n",
       "2  13790 St Louis  13011233.          Good           Yes   \n",
       "3  13777 St Louis  13011536.          Fair           Yes   \n",
       "4  13761 St Louis  13011538.          Good           Yes   \n",
       "\n",
       "          Property Class MCM Occupancy MCM Blext Created At  \\\n",
       "0  Residential-Structure      Occupied      8/16/2016 14:52   \n",
       "1  Residential-Structure      Occupied      8/16/2016 14:52   \n",
       "2  Residential-Structure      Occupied      8/16/2016 14:51   \n",
       "3  Residential-Structure    Unoccupied      8/16/2016 14:50   \n",
       "4  Residential-Structure      Occupied      8/16/2016 14:49   \n",
       "\n",
       "   fire_occured_dummy  usps_occupied_dummy  vote_dummy  TOTALACCOUNTBALANCE  \\\n",
       "0                   0                    1           0               129.35   \n",
       "1                   0                    1           0                 0.00   \n",
       "2                   0                    1           0                27.97   \n",
       "3                   0                    0           0                 0.00   \n",
       "4                   0                    1           0                13.87   \n",
       "\n",
       "   DECEMBER  NOVEMBER  OCTOBER  SEPTEMBER  AUGUST   JULY   JUNE    MAY  APRIL  \\\n",
       "0     200.0    8000.0   8100.0      200.0   200.0  200.0  200.0  100.0  200.0   \n",
       "1       0.0       0.0      0.0        0.0     0.0    0.0    0.0    0.0    0.0   \n",
       "2     900.0     900.0    800.0      800.0  1100.0  900.0  900.0  800.0  800.0   \n",
       "3       0.0       0.0      0.0        0.0     0.0    0.0    0.0    0.0    0.0   \n",
       "4     400.0     300.0    300.0      300.0   300.0  300.0  300.0  200.0  300.0   \n",
       "\n",
       "   MARCH  FEBRUARY  JANUARY  year_total  gas_dummy  electric_dummy  \n",
       "0  100.0     200.0    100.0     17800.0        1.0             1.0  \n",
       "1    0.0       0.0      0.0         0.0        0.0             0.0  \n",
       "2  800.0     800.0   1100.0     10600.0        1.0             1.0  \n",
       "3    0.0       0.0      0.0         0.0        1.0             1.0  \n",
       "4  200.0     300.0    300.0      3500.0        1.0             1.0  "
      ]
     },
     "execution_count": 33,
     "metadata": {},
     "output_type": "execute_result"
    }
   ],
   "source": [
    "merged_train_final.head()"
   ]
  },
  {
   "cell_type": "code",
   "execution_count": null,
   "metadata": {
    "collapsed": true
   },
   "outputs": [],
   "source": []
  }
 ],
 "metadata": {
  "anaconda-cloud": {},
  "kernelspec": {
   "display_name": "Python [Root]",
   "language": "python",
   "name": "Python [Root]"
  },
  "language_info": {
   "codemirror_mode": {
    "name": "ipython",
    "version": 2
   },
   "file_extension": ".py",
   "mimetype": "text/x-python",
   "name": "python",
   "nbconvert_exporter": "python",
   "pygments_lexer": "ipython2",
   "version": "2.7.12"
  }
 },
 "nbformat": 4,
 "nbformat_minor": 2
}
